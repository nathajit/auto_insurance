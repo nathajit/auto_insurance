{
 "cells": [
  {
   "cell_type": "code",
   "execution_count": 1,
   "id": "e36fcece",
   "metadata": {
    "_cell_guid": "b1076dfc-b9ad-4769-8c92-a6c4dae69d19",
    "_uuid": "8f2839f25d086af736a60e9eeb907d3b93b6e0e5",
    "execution": {
     "iopub.execute_input": "2023-08-07T04:32:42.963313Z",
     "iopub.status.busy": "2023-08-07T04:32:42.962226Z",
     "iopub.status.idle": "2023-08-07T04:32:42.982008Z",
     "shell.execute_reply": "2023-08-07T04:32:42.980848Z"
    },
    "papermill": {
     "duration": 0.045788,
     "end_time": "2023-08-07T04:32:42.984424",
     "exception": false,
     "start_time": "2023-08-07T04:32:42.938636",
     "status": "completed"
    },
    "tags": []
   },
   "outputs": [
    {
     "name": "stdout",
     "output_type": "stream",
     "text": [
      "/kaggle/input/auto-insurance-data/train(1).csv\n"
     ]
    }
   ],
   "source": [
    "# This Python 3 environment comes with many helpful analytics libraries installed\n",
    "# It is defined by the kaggle/python Docker image: https://github.com/kaggle/docker-python\n",
    "# For example, here's several helpful packages to load\n",
    "\n",
    "import numpy as np # linear algebra\n",
    "import pandas as pd # data processing, CSV file I/O (e.g. pd.read_csv)\n",
    "\n",
    "# Input data files are available in the read-only \"../input/\" directory\n",
    "# For example, running this (by clicking run or pressing Shift+Enter) will list all files under the input directory\n",
    "\n",
    "import os\n",
    "for dirname, _, filenames in os.walk('/kaggle/input'):\n",
    "    for filename in filenames:\n",
    "        print(os.path.join(dirname, filename))\n",
    "\n",
    "# You can write up to 20GB to the current directory (/kaggle/working/) that gets preserved as output when you create a version using \"Save & Run All\" \n",
    "# You can also write temporary files to /kaggle/temp/, but they won't be saved outside of the current session"
   ]
  },
  {
   "cell_type": "markdown",
   "id": "c50eef5f",
   "metadata": {
    "papermill": {
     "duration": 0.021383,
     "end_time": "2023-08-07T04:32:43.029223",
     "exception": false,
     "start_time": "2023-08-07T04:32:43.007840",
     "status": "completed"
    },
    "tags": []
   },
   "source": [
    "Importing the Libraries"
   ]
  },
  {
   "cell_type": "code",
   "execution_count": 2,
   "id": "2ae9d389",
   "metadata": {
    "execution": {
     "iopub.execute_input": "2023-08-07T04:32:43.074988Z",
     "iopub.status.busy": "2023-08-07T04:32:43.073793Z",
     "iopub.status.idle": "2023-08-07T04:32:45.509962Z",
     "shell.execute_reply": "2023-08-07T04:32:45.508781Z"
    },
    "papermill": {
     "duration": 2.461868,
     "end_time": "2023-08-07T04:32:45.512728",
     "exception": false,
     "start_time": "2023-08-07T04:32:43.050860",
     "status": "completed"
    },
    "tags": []
   },
   "outputs": [
    {
     "name": "stderr",
     "output_type": "stream",
     "text": [
      "/opt/conda/lib/python3.10/site-packages/scipy/__init__.py:146: UserWarning: A NumPy version >=1.16.5 and <1.23.0 is required for this version of SciPy (detected version 1.23.5\n",
      "  warnings.warn(f\"A NumPy version >={np_minversion} and <{np_maxversion}\"\n"
     ]
    }
   ],
   "source": [
    "import pandas as pd\n",
    "import numpy as np\n",
    "import matplotlib.pyplot as plt\n",
    "import seaborn as sns\n",
    "from sklearn.preprocessing import StandardScaler, OneHotEncoder\n",
    "from sklearn.model_selection import train_test_split, GridSearchCV\n",
    "from sklearn.linear_model import LogisticRegression\n",
    "from sklearn import svm\n",
    "from sklearn.svm import SVC, LinearSVC\n",
    "from sklearn.ensemble import AdaBoostClassifier\n",
    "from xgboost import XGBClassifier\n",
    "from sklearn.neural_network import MLPClassifier\n",
    "from sklearn.decomposition import PCA\n",
    "from imblearn.over_sampling import SMOTE\n",
    "from imblearn.under_sampling import RandomUnderSampler\n",
    "from sklearn.metrics import precision_score,recall_score,f1_score,confusion_matrix,roc_auc_score,mean_squared_error\n",
    "from sklearn.utils import resample\n",
    "from sklearn import metrics\n",
    "import warnings\n",
    "warnings.filterwarnings('ignore')\n",
    "%matplotlib inline"
   ]
  },
  {
   "cell_type": "markdown",
   "id": "a671b572",
   "metadata": {
    "papermill": {
     "duration": 0.024282,
     "end_time": "2023-08-07T04:32:45.559584",
     "exception": false,
     "start_time": "2023-08-07T04:32:45.535302",
     "status": "completed"
    },
    "tags": []
   },
   "source": [
    "### Load the Data"
   ]
  },
  {
   "cell_type": "code",
   "execution_count": 3,
   "id": "fcfe149c",
   "metadata": {
    "execution": {
     "iopub.execute_input": "2023-08-07T04:32:45.605629Z",
     "iopub.status.busy": "2023-08-07T04:32:45.605151Z",
     "iopub.status.idle": "2023-08-07T04:32:50.342073Z",
     "shell.execute_reply": "2023-08-07T04:32:50.340944Z"
    },
    "papermill": {
     "duration": 4.763008,
     "end_time": "2023-08-07T04:32:50.344704",
     "exception": false,
     "start_time": "2023-08-07T04:32:45.581696",
     "status": "completed"
    },
    "tags": []
   },
   "outputs": [
    {
     "data": {
      "text/html": [
       "<div>\n",
       "<style scoped>\n",
       "    .dataframe tbody tr th:only-of-type {\n",
       "        vertical-align: middle;\n",
       "    }\n",
       "\n",
       "    .dataframe tbody tr th {\n",
       "        vertical-align: top;\n",
       "    }\n",
       "\n",
       "    .dataframe thead th {\n",
       "        text-align: right;\n",
       "    }\n",
       "</style>\n",
       "<table border=\"1\" class=\"dataframe\">\n",
       "  <thead>\n",
       "    <tr style=\"text-align: right;\">\n",
       "      <th></th>\n",
       "      <th>id</th>\n",
       "      <th>target</th>\n",
       "      <th>ps_ind_01</th>\n",
       "      <th>ps_ind_02_cat</th>\n",
       "      <th>ps_ind_03</th>\n",
       "      <th>ps_ind_04_cat</th>\n",
       "      <th>ps_ind_05_cat</th>\n",
       "      <th>ps_ind_06_bin</th>\n",
       "      <th>ps_ind_07_bin</th>\n",
       "      <th>ps_ind_08_bin</th>\n",
       "      <th>...</th>\n",
       "      <th>ps_calc_11</th>\n",
       "      <th>ps_calc_12</th>\n",
       "      <th>ps_calc_13</th>\n",
       "      <th>ps_calc_14</th>\n",
       "      <th>ps_calc_15_bin</th>\n",
       "      <th>ps_calc_16_bin</th>\n",
       "      <th>ps_calc_17_bin</th>\n",
       "      <th>ps_calc_18_bin</th>\n",
       "      <th>ps_calc_19_bin</th>\n",
       "      <th>ps_calc_20_bin</th>\n",
       "    </tr>\n",
       "  </thead>\n",
       "  <tbody>\n",
       "    <tr>\n",
       "      <th>0</th>\n",
       "      <td>7</td>\n",
       "      <td>0</td>\n",
       "      <td>2</td>\n",
       "      <td>2</td>\n",
       "      <td>5</td>\n",
       "      <td>1</td>\n",
       "      <td>0</td>\n",
       "      <td>0</td>\n",
       "      <td>1</td>\n",
       "      <td>0</td>\n",
       "      <td>...</td>\n",
       "      <td>9</td>\n",
       "      <td>1</td>\n",
       "      <td>5</td>\n",
       "      <td>8</td>\n",
       "      <td>0</td>\n",
       "      <td>1</td>\n",
       "      <td>1</td>\n",
       "      <td>0</td>\n",
       "      <td>0</td>\n",
       "      <td>1</td>\n",
       "    </tr>\n",
       "    <tr>\n",
       "      <th>1</th>\n",
       "      <td>9</td>\n",
       "      <td>0</td>\n",
       "      <td>1</td>\n",
       "      <td>1</td>\n",
       "      <td>7</td>\n",
       "      <td>0</td>\n",
       "      <td>0</td>\n",
       "      <td>0</td>\n",
       "      <td>0</td>\n",
       "      <td>1</td>\n",
       "      <td>...</td>\n",
       "      <td>3</td>\n",
       "      <td>1</td>\n",
       "      <td>1</td>\n",
       "      <td>9</td>\n",
       "      <td>0</td>\n",
       "      <td>1</td>\n",
       "      <td>1</td>\n",
       "      <td>0</td>\n",
       "      <td>1</td>\n",
       "      <td>0</td>\n",
       "    </tr>\n",
       "    <tr>\n",
       "      <th>2</th>\n",
       "      <td>13</td>\n",
       "      <td>0</td>\n",
       "      <td>5</td>\n",
       "      <td>4</td>\n",
       "      <td>9</td>\n",
       "      <td>1</td>\n",
       "      <td>0</td>\n",
       "      <td>0</td>\n",
       "      <td>0</td>\n",
       "      <td>1</td>\n",
       "      <td>...</td>\n",
       "      <td>4</td>\n",
       "      <td>2</td>\n",
       "      <td>7</td>\n",
       "      <td>7</td>\n",
       "      <td>0</td>\n",
       "      <td>1</td>\n",
       "      <td>1</td>\n",
       "      <td>0</td>\n",
       "      <td>1</td>\n",
       "      <td>0</td>\n",
       "    </tr>\n",
       "    <tr>\n",
       "      <th>3</th>\n",
       "      <td>16</td>\n",
       "      <td>0</td>\n",
       "      <td>0</td>\n",
       "      <td>1</td>\n",
       "      <td>2</td>\n",
       "      <td>0</td>\n",
       "      <td>0</td>\n",
       "      <td>1</td>\n",
       "      <td>0</td>\n",
       "      <td>0</td>\n",
       "      <td>...</td>\n",
       "      <td>2</td>\n",
       "      <td>2</td>\n",
       "      <td>4</td>\n",
       "      <td>9</td>\n",
       "      <td>0</td>\n",
       "      <td>0</td>\n",
       "      <td>0</td>\n",
       "      <td>0</td>\n",
       "      <td>0</td>\n",
       "      <td>0</td>\n",
       "    </tr>\n",
       "    <tr>\n",
       "      <th>4</th>\n",
       "      <td>17</td>\n",
       "      <td>0</td>\n",
       "      <td>0</td>\n",
       "      <td>2</td>\n",
       "      <td>0</td>\n",
       "      <td>1</td>\n",
       "      <td>0</td>\n",
       "      <td>1</td>\n",
       "      <td>0</td>\n",
       "      <td>0</td>\n",
       "      <td>...</td>\n",
       "      <td>3</td>\n",
       "      <td>1</td>\n",
       "      <td>1</td>\n",
       "      <td>3</td>\n",
       "      <td>0</td>\n",
       "      <td>0</td>\n",
       "      <td>0</td>\n",
       "      <td>1</td>\n",
       "      <td>1</td>\n",
       "      <td>0</td>\n",
       "    </tr>\n",
       "  </tbody>\n",
       "</table>\n",
       "<p>5 rows × 59 columns</p>\n",
       "</div>"
      ],
      "text/plain": [
       "   id  target  ps_ind_01  ps_ind_02_cat  ps_ind_03  ps_ind_04_cat  \\\n",
       "0   7       0          2              2          5              1   \n",
       "1   9       0          1              1          7              0   \n",
       "2  13       0          5              4          9              1   \n",
       "3  16       0          0              1          2              0   \n",
       "4  17       0          0              2          0              1   \n",
       "\n",
       "   ps_ind_05_cat  ps_ind_06_bin  ps_ind_07_bin  ps_ind_08_bin  ...  \\\n",
       "0              0              0              1              0  ...   \n",
       "1              0              0              0              1  ...   \n",
       "2              0              0              0              1  ...   \n",
       "3              0              1              0              0  ...   \n",
       "4              0              1              0              0  ...   \n",
       "\n",
       "   ps_calc_11  ps_calc_12  ps_calc_13  ps_calc_14  ps_calc_15_bin  \\\n",
       "0           9           1           5           8               0   \n",
       "1           3           1           1           9               0   \n",
       "2           4           2           7           7               0   \n",
       "3           2           2           4           9               0   \n",
       "4           3           1           1           3               0   \n",
       "\n",
       "   ps_calc_16_bin  ps_calc_17_bin  ps_calc_18_bin  ps_calc_19_bin  \\\n",
       "0               1               1               0               0   \n",
       "1               1               1               0               1   \n",
       "2               1               1               0               1   \n",
       "3               0               0               0               0   \n",
       "4               0               0               1               1   \n",
       "\n",
       "   ps_calc_20_bin  \n",
       "0               1  \n",
       "1               0  \n",
       "2               0  \n",
       "3               0  \n",
       "4               0  \n",
       "\n",
       "[5 rows x 59 columns]"
      ]
     },
     "execution_count": 3,
     "metadata": {},
     "output_type": "execute_result"
    }
   ],
   "source": [
    "auto = pd.read_csv('/kaggle/input/auto-insurance-data/train(1).csv')\n",
    "df1= auto.copy()\n",
    "auto.head()"
   ]
  },
  {
   "cell_type": "code",
   "execution_count": 4,
   "id": "8490ffeb",
   "metadata": {
    "execution": {
     "iopub.execute_input": "2023-08-07T04:32:50.392051Z",
     "iopub.status.busy": "2023-08-07T04:32:50.391684Z",
     "iopub.status.idle": "2023-08-07T04:32:51.565584Z",
     "shell.execute_reply": "2023-08-07T04:32:51.564478Z"
    },
    "papermill": {
     "duration": 1.200842,
     "end_time": "2023-08-07T04:32:51.568185",
     "exception": false,
     "start_time": "2023-08-07T04:32:50.367343",
     "status": "completed"
    },
    "tags": []
   },
   "outputs": [
    {
     "data": {
      "text/html": [
       "<div>\n",
       "<style scoped>\n",
       "    .dataframe tbody tr th:only-of-type {\n",
       "        vertical-align: middle;\n",
       "    }\n",
       "\n",
       "    .dataframe tbody tr th {\n",
       "        vertical-align: top;\n",
       "    }\n",
       "\n",
       "    .dataframe thead th {\n",
       "        text-align: right;\n",
       "    }\n",
       "</style>\n",
       "<table border=\"1\" class=\"dataframe\">\n",
       "  <thead>\n",
       "    <tr style=\"text-align: right;\">\n",
       "      <th></th>\n",
       "      <th>id</th>\n",
       "      <th>target</th>\n",
       "      <th>ps_ind_01</th>\n",
       "      <th>ps_ind_02_cat</th>\n",
       "      <th>ps_ind_03</th>\n",
       "      <th>ps_ind_04_cat</th>\n",
       "      <th>ps_ind_05_cat</th>\n",
       "      <th>ps_ind_06_bin</th>\n",
       "      <th>ps_ind_07_bin</th>\n",
       "      <th>ps_ind_08_bin</th>\n",
       "      <th>...</th>\n",
       "      <th>ps_calc_11</th>\n",
       "      <th>ps_calc_12</th>\n",
       "      <th>ps_calc_13</th>\n",
       "      <th>ps_calc_14</th>\n",
       "      <th>ps_calc_15_bin</th>\n",
       "      <th>ps_calc_16_bin</th>\n",
       "      <th>ps_calc_17_bin</th>\n",
       "      <th>ps_calc_18_bin</th>\n",
       "      <th>ps_calc_19_bin</th>\n",
       "      <th>ps_calc_20_bin</th>\n",
       "    </tr>\n",
       "  </thead>\n",
       "  <tbody>\n",
       "    <tr>\n",
       "      <th>count</th>\n",
       "      <td>5.952120e+05</td>\n",
       "      <td>595212.000000</td>\n",
       "      <td>595212.000000</td>\n",
       "      <td>595212.000000</td>\n",
       "      <td>595212.000000</td>\n",
       "      <td>595212.000000</td>\n",
       "      <td>595212.000000</td>\n",
       "      <td>595212.000000</td>\n",
       "      <td>595212.000000</td>\n",
       "      <td>595212.000000</td>\n",
       "      <td>...</td>\n",
       "      <td>595212.000000</td>\n",
       "      <td>595212.000000</td>\n",
       "      <td>595212.000000</td>\n",
       "      <td>595212.000000</td>\n",
       "      <td>595212.000000</td>\n",
       "      <td>595212.000000</td>\n",
       "      <td>595212.000000</td>\n",
       "      <td>595212.000000</td>\n",
       "      <td>595212.000000</td>\n",
       "      <td>595212.000000</td>\n",
       "    </tr>\n",
       "    <tr>\n",
       "      <th>mean</th>\n",
       "      <td>7.438036e+05</td>\n",
       "      <td>0.036448</td>\n",
       "      <td>1.900378</td>\n",
       "      <td>1.358943</td>\n",
       "      <td>4.423318</td>\n",
       "      <td>0.416794</td>\n",
       "      <td>0.405188</td>\n",
       "      <td>0.393742</td>\n",
       "      <td>0.257033</td>\n",
       "      <td>0.163921</td>\n",
       "      <td>...</td>\n",
       "      <td>5.441382</td>\n",
       "      <td>1.441918</td>\n",
       "      <td>2.872288</td>\n",
       "      <td>7.539026</td>\n",
       "      <td>0.122427</td>\n",
       "      <td>0.627840</td>\n",
       "      <td>0.554182</td>\n",
       "      <td>0.287182</td>\n",
       "      <td>0.349024</td>\n",
       "      <td>0.153318</td>\n",
       "    </tr>\n",
       "    <tr>\n",
       "      <th>std</th>\n",
       "      <td>4.293678e+05</td>\n",
       "      <td>0.187401</td>\n",
       "      <td>1.983789</td>\n",
       "      <td>0.664594</td>\n",
       "      <td>2.699902</td>\n",
       "      <td>0.493311</td>\n",
       "      <td>1.350642</td>\n",
       "      <td>0.488579</td>\n",
       "      <td>0.436998</td>\n",
       "      <td>0.370205</td>\n",
       "      <td>...</td>\n",
       "      <td>2.332871</td>\n",
       "      <td>1.202963</td>\n",
       "      <td>1.694887</td>\n",
       "      <td>2.746652</td>\n",
       "      <td>0.327779</td>\n",
       "      <td>0.483381</td>\n",
       "      <td>0.497056</td>\n",
       "      <td>0.452447</td>\n",
       "      <td>0.476662</td>\n",
       "      <td>0.360295</td>\n",
       "    </tr>\n",
       "    <tr>\n",
       "      <th>min</th>\n",
       "      <td>7.000000e+00</td>\n",
       "      <td>0.000000</td>\n",
       "      <td>0.000000</td>\n",
       "      <td>-1.000000</td>\n",
       "      <td>0.000000</td>\n",
       "      <td>-1.000000</td>\n",
       "      <td>-1.000000</td>\n",
       "      <td>0.000000</td>\n",
       "      <td>0.000000</td>\n",
       "      <td>0.000000</td>\n",
       "      <td>...</td>\n",
       "      <td>0.000000</td>\n",
       "      <td>0.000000</td>\n",
       "      <td>0.000000</td>\n",
       "      <td>0.000000</td>\n",
       "      <td>0.000000</td>\n",
       "      <td>0.000000</td>\n",
       "      <td>0.000000</td>\n",
       "      <td>0.000000</td>\n",
       "      <td>0.000000</td>\n",
       "      <td>0.000000</td>\n",
       "    </tr>\n",
       "    <tr>\n",
       "      <th>25%</th>\n",
       "      <td>3.719915e+05</td>\n",
       "      <td>0.000000</td>\n",
       "      <td>0.000000</td>\n",
       "      <td>1.000000</td>\n",
       "      <td>2.000000</td>\n",
       "      <td>0.000000</td>\n",
       "      <td>0.000000</td>\n",
       "      <td>0.000000</td>\n",
       "      <td>0.000000</td>\n",
       "      <td>0.000000</td>\n",
       "      <td>...</td>\n",
       "      <td>4.000000</td>\n",
       "      <td>1.000000</td>\n",
       "      <td>2.000000</td>\n",
       "      <td>6.000000</td>\n",
       "      <td>0.000000</td>\n",
       "      <td>0.000000</td>\n",
       "      <td>0.000000</td>\n",
       "      <td>0.000000</td>\n",
       "      <td>0.000000</td>\n",
       "      <td>0.000000</td>\n",
       "    </tr>\n",
       "    <tr>\n",
       "      <th>50%</th>\n",
       "      <td>7.435475e+05</td>\n",
       "      <td>0.000000</td>\n",
       "      <td>1.000000</td>\n",
       "      <td>1.000000</td>\n",
       "      <td>4.000000</td>\n",
       "      <td>0.000000</td>\n",
       "      <td>0.000000</td>\n",
       "      <td>0.000000</td>\n",
       "      <td>0.000000</td>\n",
       "      <td>0.000000</td>\n",
       "      <td>...</td>\n",
       "      <td>5.000000</td>\n",
       "      <td>1.000000</td>\n",
       "      <td>3.000000</td>\n",
       "      <td>7.000000</td>\n",
       "      <td>0.000000</td>\n",
       "      <td>1.000000</td>\n",
       "      <td>1.000000</td>\n",
       "      <td>0.000000</td>\n",
       "      <td>0.000000</td>\n",
       "      <td>0.000000</td>\n",
       "    </tr>\n",
       "    <tr>\n",
       "      <th>75%</th>\n",
       "      <td>1.115549e+06</td>\n",
       "      <td>0.000000</td>\n",
       "      <td>3.000000</td>\n",
       "      <td>2.000000</td>\n",
       "      <td>6.000000</td>\n",
       "      <td>1.000000</td>\n",
       "      <td>0.000000</td>\n",
       "      <td>1.000000</td>\n",
       "      <td>1.000000</td>\n",
       "      <td>0.000000</td>\n",
       "      <td>...</td>\n",
       "      <td>7.000000</td>\n",
       "      <td>2.000000</td>\n",
       "      <td>4.000000</td>\n",
       "      <td>9.000000</td>\n",
       "      <td>0.000000</td>\n",
       "      <td>1.000000</td>\n",
       "      <td>1.000000</td>\n",
       "      <td>1.000000</td>\n",
       "      <td>1.000000</td>\n",
       "      <td>0.000000</td>\n",
       "    </tr>\n",
       "    <tr>\n",
       "      <th>max</th>\n",
       "      <td>1.488027e+06</td>\n",
       "      <td>1.000000</td>\n",
       "      <td>7.000000</td>\n",
       "      <td>4.000000</td>\n",
       "      <td>11.000000</td>\n",
       "      <td>1.000000</td>\n",
       "      <td>6.000000</td>\n",
       "      <td>1.000000</td>\n",
       "      <td>1.000000</td>\n",
       "      <td>1.000000</td>\n",
       "      <td>...</td>\n",
       "      <td>19.000000</td>\n",
       "      <td>10.000000</td>\n",
       "      <td>13.000000</td>\n",
       "      <td>23.000000</td>\n",
       "      <td>1.000000</td>\n",
       "      <td>1.000000</td>\n",
       "      <td>1.000000</td>\n",
       "      <td>1.000000</td>\n",
       "      <td>1.000000</td>\n",
       "      <td>1.000000</td>\n",
       "    </tr>\n",
       "  </tbody>\n",
       "</table>\n",
       "<p>8 rows × 59 columns</p>\n",
       "</div>"
      ],
      "text/plain": [
       "                 id         target      ps_ind_01  ps_ind_02_cat  \\\n",
       "count  5.952120e+05  595212.000000  595212.000000  595212.000000   \n",
       "mean   7.438036e+05       0.036448       1.900378       1.358943   \n",
       "std    4.293678e+05       0.187401       1.983789       0.664594   \n",
       "min    7.000000e+00       0.000000       0.000000      -1.000000   \n",
       "25%    3.719915e+05       0.000000       0.000000       1.000000   \n",
       "50%    7.435475e+05       0.000000       1.000000       1.000000   \n",
       "75%    1.115549e+06       0.000000       3.000000       2.000000   \n",
       "max    1.488027e+06       1.000000       7.000000       4.000000   \n",
       "\n",
       "           ps_ind_03  ps_ind_04_cat  ps_ind_05_cat  ps_ind_06_bin  \\\n",
       "count  595212.000000  595212.000000  595212.000000  595212.000000   \n",
       "mean        4.423318       0.416794       0.405188       0.393742   \n",
       "std         2.699902       0.493311       1.350642       0.488579   \n",
       "min         0.000000      -1.000000      -1.000000       0.000000   \n",
       "25%         2.000000       0.000000       0.000000       0.000000   \n",
       "50%         4.000000       0.000000       0.000000       0.000000   \n",
       "75%         6.000000       1.000000       0.000000       1.000000   \n",
       "max        11.000000       1.000000       6.000000       1.000000   \n",
       "\n",
       "       ps_ind_07_bin  ps_ind_08_bin  ...     ps_calc_11     ps_calc_12  \\\n",
       "count  595212.000000  595212.000000  ...  595212.000000  595212.000000   \n",
       "mean        0.257033       0.163921  ...       5.441382       1.441918   \n",
       "std         0.436998       0.370205  ...       2.332871       1.202963   \n",
       "min         0.000000       0.000000  ...       0.000000       0.000000   \n",
       "25%         0.000000       0.000000  ...       4.000000       1.000000   \n",
       "50%         0.000000       0.000000  ...       5.000000       1.000000   \n",
       "75%         1.000000       0.000000  ...       7.000000       2.000000   \n",
       "max         1.000000       1.000000  ...      19.000000      10.000000   \n",
       "\n",
       "          ps_calc_13     ps_calc_14  ps_calc_15_bin  ps_calc_16_bin  \\\n",
       "count  595212.000000  595212.000000   595212.000000   595212.000000   \n",
       "mean        2.872288       7.539026        0.122427        0.627840   \n",
       "std         1.694887       2.746652        0.327779        0.483381   \n",
       "min         0.000000       0.000000        0.000000        0.000000   \n",
       "25%         2.000000       6.000000        0.000000        0.000000   \n",
       "50%         3.000000       7.000000        0.000000        1.000000   \n",
       "75%         4.000000       9.000000        0.000000        1.000000   \n",
       "max        13.000000      23.000000        1.000000        1.000000   \n",
       "\n",
       "       ps_calc_17_bin  ps_calc_18_bin  ps_calc_19_bin  ps_calc_20_bin  \n",
       "count   595212.000000   595212.000000   595212.000000   595212.000000  \n",
       "mean         0.554182        0.287182        0.349024        0.153318  \n",
       "std          0.497056        0.452447        0.476662        0.360295  \n",
       "min          0.000000        0.000000        0.000000        0.000000  \n",
       "25%          0.000000        0.000000        0.000000        0.000000  \n",
       "50%          1.000000        0.000000        0.000000        0.000000  \n",
       "75%          1.000000        1.000000        1.000000        0.000000  \n",
       "max          1.000000        1.000000        1.000000        1.000000  \n",
       "\n",
       "[8 rows x 59 columns]"
      ]
     },
     "execution_count": 4,
     "metadata": {},
     "output_type": "execute_result"
    }
   ],
   "source": [
    "auto.describe()"
   ]
  },
  {
   "cell_type": "code",
   "execution_count": 5,
   "id": "06d0f3cb",
   "metadata": {
    "execution": {
     "iopub.execute_input": "2023-08-07T04:32:51.616170Z",
     "iopub.status.busy": "2023-08-07T04:32:51.615794Z",
     "iopub.status.idle": "2023-08-07T04:32:51.622187Z",
     "shell.execute_reply": "2023-08-07T04:32:51.621141Z"
    },
    "papermill": {
     "duration": 0.032909,
     "end_time": "2023-08-07T04:32:51.624626",
     "exception": false,
     "start_time": "2023-08-07T04:32:51.591717",
     "status": "completed"
    },
    "tags": []
   },
   "outputs": [
    {
     "data": {
      "text/plain": [
       "(595212, 59)"
      ]
     },
     "execution_count": 5,
     "metadata": {},
     "output_type": "execute_result"
    }
   ],
   "source": [
    "auto.shape"
   ]
  },
  {
   "cell_type": "markdown",
   "id": "b58df55b",
   "metadata": {
    "papermill": {
     "duration": 0.022633,
     "end_time": "2023-08-07T04:32:51.670764",
     "exception": false,
     "start_time": "2023-08-07T04:32:51.648131",
     "status": "completed"
    },
    "tags": []
   },
   "source": [
    "### Exploratory Data Analysis"
   ]
  },
  {
   "cell_type": "markdown",
   "id": "8b1baebc",
   "metadata": {
    "papermill": {
     "duration": 0.023143,
     "end_time": "2023-08-07T04:32:51.717189",
     "exception": false,
     "start_time": "2023-08-07T04:32:51.694046",
     "status": "completed"
    },
    "tags": []
   },
   "source": [
    "3 Important Inferences:\n",
    "\n",
    "Inferences 1: This is high dimensional data with 59 columns. Most of the features are uncorrelated."
   ]
  },
  {
   "cell_type": "code",
   "execution_count": 6,
   "id": "8e3c78f6",
   "metadata": {
    "execution": {
     "iopub.execute_input": "2023-08-07T04:32:51.765846Z",
     "iopub.status.busy": "2023-08-07T04:32:51.765458Z",
     "iopub.status.idle": "2023-08-07T04:32:51.782023Z",
     "shell.execute_reply": "2023-08-07T04:32:51.780749Z"
    },
    "papermill": {
     "duration": 0.043242,
     "end_time": "2023-08-07T04:32:51.784136",
     "exception": false,
     "start_time": "2023-08-07T04:32:51.740894",
     "status": "completed"
    },
    "tags": []
   },
   "outputs": [
    {
     "name": "stdout",
     "output_type": "stream",
     "text": [
      "% of claims rejected 96.36\n",
      "% of claims accepted 3.64\n"
     ]
    }
   ],
   "source": [
    "percentage = (auto['target'].value_counts()/(auto.shape[0]))*100\n",
    "print('% of claims rejected' ,round(percentage[0],2))\n",
    "print('% of claims accepted' ,round(percentage[1],2))"
   ]
  },
  {
   "cell_type": "markdown",
   "id": "698f0e2a",
   "metadata": {
    "papermill": {
     "duration": 0.022855,
     "end_time": "2023-08-07T04:32:51.830104",
     "exception": false,
     "start_time": "2023-08-07T04:32:51.807249",
     "status": "completed"
    },
    "tags": []
   },
   "source": []
  },
  {
   "cell_type": "markdown",
   "id": "3f863a12",
   "metadata": {
    "papermill": {
     "duration": 0.022752,
     "end_time": "2023-08-07T04:32:51.876173",
     "exception": false,
     "start_time": "2023-08-07T04:32:51.853421",
     "status": "completed"
    },
    "tags": []
   },
   "source": [
    "Inferences 2: The target of prediction of data is highly skewed towards claims rejected (approx 96%) and 4% data are accepted."
   ]
  },
  {
   "cell_type": "code",
   "execution_count": 7,
   "id": "293d7642",
   "metadata": {
    "execution": {
     "iopub.execute_input": "2023-08-07T04:32:51.924230Z",
     "iopub.status.busy": "2023-08-07T04:32:51.923504Z",
     "iopub.status.idle": "2023-08-07T04:32:52.103613Z",
     "shell.execute_reply": "2023-08-07T04:32:52.102394Z"
    },
    "papermill": {
     "duration": 0.207178,
     "end_time": "2023-08-07T04:32:52.106389",
     "exception": false,
     "start_time": "2023-08-07T04:32:51.899211",
     "status": "completed"
    },
    "tags": []
   },
   "outputs": [
    {
     "data": {
      "text/plain": [
       "id                0.00000\n",
       "target            0.00000\n",
       "ps_ind_01         0.00000\n",
       "ps_ind_02_cat     0.03629\n",
       "ps_ind_03         0.00000\n",
       "ps_ind_04_cat     0.01394\n",
       "ps_ind_05_cat     0.97595\n",
       "ps_ind_06_bin     0.00000\n",
       "ps_ind_07_bin     0.00000\n",
       "ps_ind_08_bin     0.00000\n",
       "ps_ind_09_bin     0.00000\n",
       "ps_ind_10_bin     0.00000\n",
       "ps_ind_11_bin     0.00000\n",
       "ps_ind_12_bin     0.00000\n",
       "ps_ind_13_bin     0.00000\n",
       "ps_ind_14         0.00000\n",
       "ps_ind_15         0.00000\n",
       "ps_ind_16_bin     0.00000\n",
       "ps_ind_17_bin     0.00000\n",
       "ps_ind_18_bin     0.00000\n",
       "ps_reg_01         0.00000\n",
       "ps_reg_02         0.00000\n",
       "ps_reg_03        18.10649\n",
       "ps_car_01_cat     0.01798\n",
       "ps_car_02_cat     0.00000\n",
       "ps_car_03_cat    69.08984\n",
       "ps_car_04_cat     0.00000\n",
       "ps_car_05_cat    44.78253\n",
       "ps_car_06_cat     0.00000\n",
       "ps_car_07_cat     1.93024\n",
       "ps_car_08_cat     0.00000\n",
       "ps_car_09_cat     0.09560\n",
       "ps_car_10_cat     0.00000\n",
       "ps_car_11_cat     0.00000\n",
       "ps_car_11         0.00084\n",
       "ps_car_12         0.00017\n",
       "ps_car_13         0.00000\n",
       "ps_car_14         7.16047\n",
       "ps_car_15         0.00000\n",
       "ps_calc_01        0.00000\n",
       "ps_calc_02        0.00000\n",
       "ps_calc_03        0.00000\n",
       "ps_calc_04        0.00000\n",
       "ps_calc_05        0.00000\n",
       "ps_calc_06        0.00000\n",
       "ps_calc_07        0.00000\n",
       "ps_calc_08        0.00000\n",
       "ps_calc_09        0.00000\n",
       "ps_calc_10        0.00000\n",
       "ps_calc_11        0.00000\n",
       "ps_calc_12        0.00000\n",
       "ps_calc_13        0.00000\n",
       "ps_calc_14        0.00000\n",
       "ps_calc_15_bin    0.00000\n",
       "ps_calc_16_bin    0.00000\n",
       "ps_calc_17_bin    0.00000\n",
       "ps_calc_18_bin    0.00000\n",
       "ps_calc_19_bin    0.00000\n",
       "ps_calc_20_bin    0.00000\n",
       "dtype: float64"
      ]
     },
     "execution_count": 7,
     "metadata": {},
     "output_type": "execute_result"
    }
   ],
   "source": [
    "auto2 = auto.replace(-1,np.nan) # null values are representing with -1 in this dataset\n",
    "pd.options.display.float_format = \"{:,.5f}\".format\n",
    "auto2.isnull().sum()*100 / auto2.shape[0]"
   ]
  },
  {
   "cell_type": "markdown",
   "id": "133d72e4",
   "metadata": {
    "papermill": {
     "duration": 0.022915,
     "end_time": "2023-08-07T04:32:52.152631",
     "exception": false,
     "start_time": "2023-08-07T04:32:52.129716",
     "status": "completed"
    },
    "tags": []
   },
   "source": [
    "Inferences 3: Only 12 attributes out of 59 attributes have missing values, out of which \"ps_car_03_cat\" has more than 50% of data missing while rest are less than 50% missing data, which can be useful for furhter analysis."
   ]
  },
  {
   "cell_type": "code",
   "execution_count": 8,
   "id": "0dd73684",
   "metadata": {
    "execution": {
     "iopub.execute_input": "2023-08-07T04:32:52.201149Z",
     "iopub.status.busy": "2023-08-07T04:32:52.200754Z",
     "iopub.status.idle": "2023-08-07T04:32:52.474143Z",
     "shell.execute_reply": "2023-08-07T04:32:52.472994Z"
    },
    "papermill": {
     "duration": 0.300597,
     "end_time": "2023-08-07T04:32:52.476650",
     "exception": false,
     "start_time": "2023-08-07T04:32:52.176053",
     "status": "completed"
    },
    "tags": []
   },
   "outputs": [
    {
     "data": {
      "text/plain": [
       "<Axes: >"
      ]
     },
     "execution_count": 8,
     "metadata": {},
     "output_type": "execute_result"
    },
    {
     "data": {
      "image/png": "[encoded data removed]",
      "text/plain": [
       "<Figure size 640x480 with 1 Axes>"
      ]
     },
     "metadata": {},
     "output_type": "display_data"
    }
   ],
   "source": [
    "percentage.plot.bar()"
   ]
  },
  {
   "cell_type": "markdown",
   "id": "1cf11bcd",
   "metadata": {
    "papermill": {
     "duration": 0.024465,
     "end_time": "2023-08-07T04:32:52.524830",
     "exception": false,
     "start_time": "2023-08-07T04:32:52.500365",
     "status": "completed"
    },
    "tags": []
   },
   "source": [
    "Data not balanced. Target 0 and 1 is not in the right proportion."
   ]
  },
  {
   "cell_type": "code",
   "execution_count": 9,
   "id": "ea3a149c",
   "metadata": {
    "execution": {
     "iopub.execute_input": "2023-08-07T04:32:52.574454Z",
     "iopub.status.busy": "2023-08-07T04:32:52.574017Z",
     "iopub.status.idle": "2023-08-07T04:32:52.584233Z",
     "shell.execute_reply": "2023-08-07T04:32:52.581752Z"
    },
    "papermill": {
     "duration": 0.037886,
     "end_time": "2023-08-07T04:32:52.586863",
     "exception": false,
     "start_time": "2023-08-07T04:32:52.548977",
     "status": "completed"
    },
    "tags": []
   },
   "outputs": [
    {
     "name": "stdout",
     "output_type": "stream",
     "text": [
      "{'binary_var_count': 18, 'categorical_var_count': 14, 'continuous/ordinal_var_count': 27}\n"
     ]
    }
   ],
   "source": [
    "col_list=list(auto.columns)\n",
    "var_count_dict=dict.fromkeys(['binary_var_count','categorical_var_count','continuous/ordinal_var_count'],0)\n",
    "continuous_ordinal_var = []\n",
    "binary_var = []\n",
    "categorical_var = []\n",
    "for i in list(auto.columns):\n",
    "    if i.endswith(\"bin\")  or i=='target':\n",
    "        var_count_dict['binary_var_count']+=1\n",
    "        binary_var.append(i)\n",
    "    elif i.endswith(\"cat\"):\n",
    "        var_count_dict['categorical_var_count']+=1\n",
    "        categorical_var.append(i)\n",
    "    else:\n",
    "        var_count_dict['continuous/ordinal_var_count']+=1\n",
    "        continuous_ordinal_var.append(i)\n",
    "print(var_count_dict)"
   ]
  },
  {
   "cell_type": "markdown",
   "id": "79dc1a86",
   "metadata": {
    "papermill": {
     "duration": 0.023215,
     "end_time": "2023-08-07T04:32:52.633823",
     "exception": false,
     "start_time": "2023-08-07T04:32:52.610608",
     "status": "completed"
    },
    "tags": []
   },
   "source": [
    "From above we can observe that there are 18 binary features, 14 categorical features and 27 continuous/ordinal features."
   ]
  },
  {
   "cell_type": "markdown",
   "id": "a906aaca",
   "metadata": {
    "papermill": {
     "duration": 0.02382,
     "end_time": "2023-08-07T04:32:52.681912",
     "exception": false,
     "start_time": "2023-08-07T04:32:52.658092",
     "status": "completed"
    },
    "tags": []
   },
   "source": [
    "#### Inferences from data on interval, binary and ordinal variables."
   ]
  },
  {
   "cell_type": "code",
   "execution_count": 10,
   "id": "aee0dcf0",
   "metadata": {
    "execution": {
     "iopub.execute_input": "2023-08-07T04:32:52.733051Z",
     "iopub.status.busy": "2023-08-07T04:32:52.732370Z",
     "iopub.status.idle": "2023-08-07T04:32:52.738954Z",
     "shell.execute_reply": "2023-08-07T04:32:52.738084Z"
    },
    "papermill": {
     "duration": 0.035102,
     "end_time": "2023-08-07T04:32:52.741324",
     "exception": false,
     "start_time": "2023-08-07T04:32:52.706222",
     "status": "completed"
    },
    "tags": []
   },
   "outputs": [],
   "source": [
    "interval_var = []\n",
    "ordinal_var = []\n",
    "for i in continuous_ordinal_var:\n",
    "    if auto[i].dtype=='float':\n",
    "        interval_var.append(i)\n",
    "    else:\n",
    "        if i!='id':\n",
    "            ordinal_var.append(i)"
   ]
  },
  {
   "cell_type": "code",
   "execution_count": 11,
   "id": "807f16e5",
   "metadata": {
    "execution": {
     "iopub.execute_input": "2023-08-07T04:32:52.791159Z",
     "iopub.status.busy": "2023-08-07T04:32:52.790478Z",
     "iopub.status.idle": "2023-08-07T04:32:52.796534Z",
     "shell.execute_reply": "2023-08-07T04:32:52.795298Z"
    },
    "papermill": {
     "duration": 0.033819,
     "end_time": "2023-08-07T04:32:52.798927",
     "exception": false,
     "start_time": "2023-08-07T04:32:52.765108",
     "status": "completed"
    },
    "tags": []
   },
   "outputs": [
    {
     "name": "stdout",
     "output_type": "stream",
     "text": [
      "Ordinal variables:  ['ps_ind_01', 'ps_ind_03', 'ps_ind_14', 'ps_ind_15', 'ps_car_11', 'ps_calc_04', 'ps_calc_05', 'ps_calc_06', 'ps_calc_07', 'ps_calc_08', 'ps_calc_09', 'ps_calc_10', 'ps_calc_11', 'ps_calc_12', 'ps_calc_13', 'ps_calc_14']\n",
      "\n",
      "\n",
      "Interval variables:  ['ps_reg_01', 'ps_reg_02', 'ps_reg_03', 'ps_car_12', 'ps_car_13', 'ps_car_14', 'ps_car_15', 'ps_calc_01', 'ps_calc_02', 'ps_calc_03']\n",
      "\n",
      "\n",
      "Binary variables:  ['target', 'ps_ind_06_bin', 'ps_ind_07_bin', 'ps_ind_08_bin', 'ps_ind_09_bin', 'ps_ind_10_bin', 'ps_ind_11_bin', 'ps_ind_12_bin', 'ps_ind_13_bin', 'ps_ind_16_bin', 'ps_ind_17_bin', 'ps_ind_18_bin', 'ps_calc_15_bin', 'ps_calc_16_bin', 'ps_calc_17_bin', 'ps_calc_18_bin', 'ps_calc_19_bin', 'ps_calc_20_bin']\n"
     ]
    }
   ],
   "source": [
    "print(\"Ordinal variables: \",ordinal_var)\n",
    "print(\"\\n\")\n",
    "print('Interval variables: ',interval_var)\n",
    "print(\"\\n\")\n",
    "print(\"Binary variables: \",binary_var)"
   ]
  },
  {
   "cell_type": "code",
   "execution_count": 12,
   "id": "92260b86",
   "metadata": {
    "execution": {
     "iopub.execute_input": "2023-08-07T04:32:52.849176Z",
     "iopub.status.busy": "2023-08-07T04:32:52.848775Z",
     "iopub.status.idle": "2023-08-07T04:32:52.894458Z",
     "shell.execute_reply": "2023-08-07T04:32:52.893334Z"
    },
    "papermill": {
     "duration": 0.074037,
     "end_time": "2023-08-07T04:32:52.896875",
     "exception": false,
     "start_time": "2023-08-07T04:32:52.822838",
     "status": "completed"
    },
    "tags": []
   },
   "outputs": [
    {
     "data": {
      "text/html": [
       "<div>\n",
       "<style scoped>\n",
       "    .dataframe tbody tr th:only-of-type {\n",
       "        vertical-align: middle;\n",
       "    }\n",
       "\n",
       "    .dataframe tbody tr th {\n",
       "        vertical-align: top;\n",
       "    }\n",
       "\n",
       "    .dataframe thead th {\n",
       "        text-align: right;\n",
       "    }\n",
       "</style>\n",
       "<table border=\"1\" class=\"dataframe\">\n",
       "  <thead>\n",
       "    <tr style=\"text-align: right;\">\n",
       "      <th></th>\n",
       "      <th>ps_ind_01</th>\n",
       "      <th>ps_ind_03</th>\n",
       "      <th>ps_ind_14</th>\n",
       "      <th>ps_ind_15</th>\n",
       "      <th>ps_car_11</th>\n",
       "      <th>ps_calc_04</th>\n",
       "      <th>ps_calc_05</th>\n",
       "      <th>ps_calc_06</th>\n",
       "      <th>ps_calc_07</th>\n",
       "      <th>ps_calc_08</th>\n",
       "      <th>ps_calc_09</th>\n",
       "      <th>ps_calc_10</th>\n",
       "      <th>ps_calc_11</th>\n",
       "      <th>ps_calc_12</th>\n",
       "      <th>ps_calc_13</th>\n",
       "      <th>ps_calc_14</th>\n",
       "    </tr>\n",
       "  </thead>\n",
       "  <tbody>\n",
       "    <tr>\n",
       "      <th>0</th>\n",
       "      <td>2</td>\n",
       "      <td>5</td>\n",
       "      <td>0</td>\n",
       "      <td>11</td>\n",
       "      <td>2</td>\n",
       "      <td>3</td>\n",
       "      <td>1</td>\n",
       "      <td>10</td>\n",
       "      <td>1</td>\n",
       "      <td>10</td>\n",
       "      <td>1</td>\n",
       "      <td>5</td>\n",
       "      <td>9</td>\n",
       "      <td>1</td>\n",
       "      <td>5</td>\n",
       "      <td>8</td>\n",
       "    </tr>\n",
       "    <tr>\n",
       "      <th>1</th>\n",
       "      <td>1</td>\n",
       "      <td>7</td>\n",
       "      <td>0</td>\n",
       "      <td>3</td>\n",
       "      <td>3</td>\n",
       "      <td>2</td>\n",
       "      <td>1</td>\n",
       "      <td>9</td>\n",
       "      <td>5</td>\n",
       "      <td>8</td>\n",
       "      <td>1</td>\n",
       "      <td>7</td>\n",
       "      <td>3</td>\n",
       "      <td>1</td>\n",
       "      <td>1</td>\n",
       "      <td>9</td>\n",
       "    </tr>\n",
       "    <tr>\n",
       "      <th>2</th>\n",
       "      <td>5</td>\n",
       "      <td>9</td>\n",
       "      <td>0</td>\n",
       "      <td>12</td>\n",
       "      <td>1</td>\n",
       "      <td>2</td>\n",
       "      <td>2</td>\n",
       "      <td>9</td>\n",
       "      <td>1</td>\n",
       "      <td>8</td>\n",
       "      <td>2</td>\n",
       "      <td>7</td>\n",
       "      <td>4</td>\n",
       "      <td>2</td>\n",
       "      <td>7</td>\n",
       "      <td>7</td>\n",
       "    </tr>\n",
       "    <tr>\n",
       "      <th>3</th>\n",
       "      <td>0</td>\n",
       "      <td>2</td>\n",
       "      <td>0</td>\n",
       "      <td>8</td>\n",
       "      <td>1</td>\n",
       "      <td>2</td>\n",
       "      <td>4</td>\n",
       "      <td>7</td>\n",
       "      <td>1</td>\n",
       "      <td>8</td>\n",
       "      <td>4</td>\n",
       "      <td>2</td>\n",
       "      <td>2</td>\n",
       "      <td>2</td>\n",
       "      <td>4</td>\n",
       "      <td>9</td>\n",
       "    </tr>\n",
       "    <tr>\n",
       "      <th>4</th>\n",
       "      <td>0</td>\n",
       "      <td>0</td>\n",
       "      <td>0</td>\n",
       "      <td>9</td>\n",
       "      <td>3</td>\n",
       "      <td>2</td>\n",
       "      <td>2</td>\n",
       "      <td>6</td>\n",
       "      <td>3</td>\n",
       "      <td>10</td>\n",
       "      <td>2</td>\n",
       "      <td>12</td>\n",
       "      <td>3</td>\n",
       "      <td>1</td>\n",
       "      <td>1</td>\n",
       "      <td>3</td>\n",
       "    </tr>\n",
       "  </tbody>\n",
       "</table>\n",
       "</div>"
      ],
      "text/plain": [
       "   ps_ind_01  ps_ind_03  ps_ind_14  ps_ind_15  ps_car_11  ps_calc_04  \\\n",
       "0          2          5          0         11          2           3   \n",
       "1          1          7          0          3          3           2   \n",
       "2          5          9          0         12          1           2   \n",
       "3          0          2          0          8          1           2   \n",
       "4          0          0          0          9          3           2   \n",
       "\n",
       "   ps_calc_05  ps_calc_06  ps_calc_07  ps_calc_08  ps_calc_09  ps_calc_10  \\\n",
       "0           1          10           1          10           1           5   \n",
       "1           1           9           5           8           1           7   \n",
       "2           2           9           1           8           2           7   \n",
       "3           4           7           1           8           4           2   \n",
       "4           2           6           3          10           2          12   \n",
       "\n",
       "   ps_calc_11  ps_calc_12  ps_calc_13  ps_calc_14  \n",
       "0           9           1           5           8  \n",
       "1           3           1           1           9  \n",
       "2           4           2           7           7  \n",
       "3           2           2           4           9  \n",
       "4           3           1           1           3  "
      ]
     },
     "execution_count": 12,
     "metadata": {},
     "output_type": "execute_result"
    }
   ],
   "source": [
    "auto[ordinal_var].head()"
   ]
  },
  {
   "cell_type": "code",
   "execution_count": 13,
   "id": "2a83316c",
   "metadata": {
    "execution": {
     "iopub.execute_input": "2023-08-07T04:32:52.947149Z",
     "iopub.status.busy": "2023-08-07T04:32:52.946751Z",
     "iopub.status.idle": "2023-08-07T04:32:52.978063Z",
     "shell.execute_reply": "2023-08-07T04:32:52.976884Z"
    },
    "papermill": {
     "duration": 0.059777,
     "end_time": "2023-08-07T04:32:52.980644",
     "exception": false,
     "start_time": "2023-08-07T04:32:52.920867",
     "status": "completed"
    },
    "tags": []
   },
   "outputs": [
    {
     "data": {
      "text/html": [
       "<div>\n",
       "<style scoped>\n",
       "    .dataframe tbody tr th:only-of-type {\n",
       "        vertical-align: middle;\n",
       "    }\n",
       "\n",
       "    .dataframe tbody tr th {\n",
       "        vertical-align: top;\n",
       "    }\n",
       "\n",
       "    .dataframe thead th {\n",
       "        text-align: right;\n",
       "    }\n",
       "</style>\n",
       "<table border=\"1\" class=\"dataframe\">\n",
       "  <thead>\n",
       "    <tr style=\"text-align: right;\">\n",
       "      <th></th>\n",
       "      <th>ps_reg_01</th>\n",
       "      <th>ps_reg_02</th>\n",
       "      <th>ps_reg_03</th>\n",
       "      <th>ps_car_12</th>\n",
       "      <th>ps_car_13</th>\n",
       "      <th>ps_car_14</th>\n",
       "      <th>ps_car_15</th>\n",
       "      <th>ps_calc_01</th>\n",
       "      <th>ps_calc_02</th>\n",
       "      <th>ps_calc_03</th>\n",
       "    </tr>\n",
       "  </thead>\n",
       "  <tbody>\n",
       "    <tr>\n",
       "      <th>0</th>\n",
       "      <td>0.70000</td>\n",
       "      <td>0.20000</td>\n",
       "      <td>0.71807</td>\n",
       "      <td>0.40000</td>\n",
       "      <td>0.88368</td>\n",
       "      <td>0.37081</td>\n",
       "      <td>3.60555</td>\n",
       "      <td>0.60000</td>\n",
       "      <td>0.50000</td>\n",
       "      <td>0.20000</td>\n",
       "    </tr>\n",
       "    <tr>\n",
       "      <th>1</th>\n",
       "      <td>0.80000</td>\n",
       "      <td>0.40000</td>\n",
       "      <td>0.76608</td>\n",
       "      <td>0.31623</td>\n",
       "      <td>0.61882</td>\n",
       "      <td>0.38872</td>\n",
       "      <td>2.44949</td>\n",
       "      <td>0.30000</td>\n",
       "      <td>0.10000</td>\n",
       "      <td>0.30000</td>\n",
       "    </tr>\n",
       "    <tr>\n",
       "      <th>2</th>\n",
       "      <td>0.00000</td>\n",
       "      <td>0.00000</td>\n",
       "      <td>-1.00000</td>\n",
       "      <td>0.31623</td>\n",
       "      <td>0.64159</td>\n",
       "      <td>0.34728</td>\n",
       "      <td>3.31662</td>\n",
       "      <td>0.50000</td>\n",
       "      <td>0.70000</td>\n",
       "      <td>0.10000</td>\n",
       "    </tr>\n",
       "    <tr>\n",
       "      <th>3</th>\n",
       "      <td>0.90000</td>\n",
       "      <td>0.20000</td>\n",
       "      <td>0.58095</td>\n",
       "      <td>0.37417</td>\n",
       "      <td>0.54295</td>\n",
       "      <td>0.29496</td>\n",
       "      <td>2.00000</td>\n",
       "      <td>0.60000</td>\n",
       "      <td>0.90000</td>\n",
       "      <td>0.10000</td>\n",
       "    </tr>\n",
       "    <tr>\n",
       "      <th>4</th>\n",
       "      <td>0.70000</td>\n",
       "      <td>0.60000</td>\n",
       "      <td>0.84076</td>\n",
       "      <td>0.31607</td>\n",
       "      <td>0.56583</td>\n",
       "      <td>0.36510</td>\n",
       "      <td>2.00000</td>\n",
       "      <td>0.40000</td>\n",
       "      <td>0.60000</td>\n",
       "      <td>0.00000</td>\n",
       "    </tr>\n",
       "  </tbody>\n",
       "</table>\n",
       "</div>"
      ],
      "text/plain": [
       "   ps_reg_01  ps_reg_02  ps_reg_03  ps_car_12  ps_car_13  ps_car_14  \\\n",
       "0    0.70000    0.20000    0.71807    0.40000    0.88368    0.37081   \n",
       "1    0.80000    0.40000    0.76608    0.31623    0.61882    0.38872   \n",
       "2    0.00000    0.00000   -1.00000    0.31623    0.64159    0.34728   \n",
       "3    0.90000    0.20000    0.58095    0.37417    0.54295    0.29496   \n",
       "4    0.70000    0.60000    0.84076    0.31607    0.56583    0.36510   \n",
       "\n",
       "   ps_car_15  ps_calc_01  ps_calc_02  ps_calc_03  \n",
       "0    3.60555     0.60000     0.50000     0.20000  \n",
       "1    2.44949     0.30000     0.10000     0.30000  \n",
       "2    3.31662     0.50000     0.70000     0.10000  \n",
       "3    2.00000     0.60000     0.90000     0.10000  \n",
       "4    2.00000     0.40000     0.60000     0.00000  "
      ]
     },
     "execution_count": 13,
     "metadata": {},
     "output_type": "execute_result"
    }
   ],
   "source": [
    "auto[interval_var].head()"
   ]
  },
  {
   "cell_type": "code",
   "execution_count": 14,
   "id": "a463adb6",
   "metadata": {
    "execution": {
     "iopub.execute_input": "2023-08-07T04:32:53.032478Z",
     "iopub.status.busy": "2023-08-07T04:32:53.031274Z",
     "iopub.status.idle": "2023-08-07T04:32:53.078611Z",
     "shell.execute_reply": "2023-08-07T04:32:53.077420Z"
    },
    "papermill": {
     "duration": 0.075617,
     "end_time": "2023-08-07T04:32:53.080918",
     "exception": false,
     "start_time": "2023-08-07T04:32:53.005301",
     "status": "completed"
    },
    "tags": []
   },
   "outputs": [
    {
     "data": {
      "text/html": [
       "<div>\n",
       "<style scoped>\n",
       "    .dataframe tbody tr th:only-of-type {\n",
       "        vertical-align: middle;\n",
       "    }\n",
       "\n",
       "    .dataframe tbody tr th {\n",
       "        vertical-align: top;\n",
       "    }\n",
       "\n",
       "    .dataframe thead th {\n",
       "        text-align: right;\n",
       "    }\n",
       "</style>\n",
       "<table border=\"1\" class=\"dataframe\">\n",
       "  <thead>\n",
       "    <tr style=\"text-align: right;\">\n",
       "      <th></th>\n",
       "      <th>target</th>\n",
       "      <th>ps_ind_06_bin</th>\n",
       "      <th>ps_ind_07_bin</th>\n",
       "      <th>ps_ind_08_bin</th>\n",
       "      <th>ps_ind_09_bin</th>\n",
       "      <th>ps_ind_10_bin</th>\n",
       "      <th>ps_ind_11_bin</th>\n",
       "      <th>ps_ind_12_bin</th>\n",
       "      <th>ps_ind_13_bin</th>\n",
       "      <th>ps_ind_16_bin</th>\n",
       "      <th>ps_ind_17_bin</th>\n",
       "      <th>ps_ind_18_bin</th>\n",
       "      <th>ps_calc_15_bin</th>\n",
       "      <th>ps_calc_16_bin</th>\n",
       "      <th>ps_calc_17_bin</th>\n",
       "      <th>ps_calc_18_bin</th>\n",
       "      <th>ps_calc_19_bin</th>\n",
       "      <th>ps_calc_20_bin</th>\n",
       "    </tr>\n",
       "  </thead>\n",
       "  <tbody>\n",
       "    <tr>\n",
       "      <th>0</th>\n",
       "      <td>0</td>\n",
       "      <td>0</td>\n",
       "      <td>1</td>\n",
       "      <td>0</td>\n",
       "      <td>0</td>\n",
       "      <td>0</td>\n",
       "      <td>0</td>\n",
       "      <td>0</td>\n",
       "      <td>0</td>\n",
       "      <td>0</td>\n",
       "      <td>1</td>\n",
       "      <td>0</td>\n",
       "      <td>0</td>\n",
       "      <td>1</td>\n",
       "      <td>1</td>\n",
       "      <td>0</td>\n",
       "      <td>0</td>\n",
       "      <td>1</td>\n",
       "    </tr>\n",
       "    <tr>\n",
       "      <th>1</th>\n",
       "      <td>0</td>\n",
       "      <td>0</td>\n",
       "      <td>0</td>\n",
       "      <td>1</td>\n",
       "      <td>0</td>\n",
       "      <td>0</td>\n",
       "      <td>0</td>\n",
       "      <td>0</td>\n",
       "      <td>0</td>\n",
       "      <td>0</td>\n",
       "      <td>0</td>\n",
       "      <td>1</td>\n",
       "      <td>0</td>\n",
       "      <td>1</td>\n",
       "      <td>1</td>\n",
       "      <td>0</td>\n",
       "      <td>1</td>\n",
       "      <td>0</td>\n",
       "    </tr>\n",
       "    <tr>\n",
       "      <th>2</th>\n",
       "      <td>0</td>\n",
       "      <td>0</td>\n",
       "      <td>0</td>\n",
       "      <td>1</td>\n",
       "      <td>0</td>\n",
       "      <td>0</td>\n",
       "      <td>0</td>\n",
       "      <td>0</td>\n",
       "      <td>0</td>\n",
       "      <td>1</td>\n",
       "      <td>0</td>\n",
       "      <td>0</td>\n",
       "      <td>0</td>\n",
       "      <td>1</td>\n",
       "      <td>1</td>\n",
       "      <td>0</td>\n",
       "      <td>1</td>\n",
       "      <td>0</td>\n",
       "    </tr>\n",
       "    <tr>\n",
       "      <th>3</th>\n",
       "      <td>0</td>\n",
       "      <td>1</td>\n",
       "      <td>0</td>\n",
       "      <td>0</td>\n",
       "      <td>0</td>\n",
       "      <td>0</td>\n",
       "      <td>0</td>\n",
       "      <td>0</td>\n",
       "      <td>0</td>\n",
       "      <td>1</td>\n",
       "      <td>0</td>\n",
       "      <td>0</td>\n",
       "      <td>0</td>\n",
       "      <td>0</td>\n",
       "      <td>0</td>\n",
       "      <td>0</td>\n",
       "      <td>0</td>\n",
       "      <td>0</td>\n",
       "    </tr>\n",
       "    <tr>\n",
       "      <th>4</th>\n",
       "      <td>0</td>\n",
       "      <td>1</td>\n",
       "      <td>0</td>\n",
       "      <td>0</td>\n",
       "      <td>0</td>\n",
       "      <td>0</td>\n",
       "      <td>0</td>\n",
       "      <td>0</td>\n",
       "      <td>0</td>\n",
       "      <td>1</td>\n",
       "      <td>0</td>\n",
       "      <td>0</td>\n",
       "      <td>0</td>\n",
       "      <td>0</td>\n",
       "      <td>0</td>\n",
       "      <td>1</td>\n",
       "      <td>1</td>\n",
       "      <td>0</td>\n",
       "    </tr>\n",
       "  </tbody>\n",
       "</table>\n",
       "</div>"
      ],
      "text/plain": [
       "   target  ps_ind_06_bin  ps_ind_07_bin  ps_ind_08_bin  ps_ind_09_bin  \\\n",
       "0       0              0              1              0              0   \n",
       "1       0              0              0              1              0   \n",
       "2       0              0              0              1              0   \n",
       "3       0              1              0              0              0   \n",
       "4       0              1              0              0              0   \n",
       "\n",
       "   ps_ind_10_bin  ps_ind_11_bin  ps_ind_12_bin  ps_ind_13_bin  ps_ind_16_bin  \\\n",
       "0              0              0              0              0              0   \n",
       "1              0              0              0              0              0   \n",
       "2              0              0              0              0              1   \n",
       "3              0              0              0              0              1   \n",
       "4              0              0              0              0              1   \n",
       "\n",
       "   ps_ind_17_bin  ps_ind_18_bin  ps_calc_15_bin  ps_calc_16_bin  \\\n",
       "0              1              0               0               1   \n",
       "1              0              1               0               1   \n",
       "2              0              0               0               1   \n",
       "3              0              0               0               0   \n",
       "4              0              0               0               0   \n",
       "\n",
       "   ps_calc_17_bin  ps_calc_18_bin  ps_calc_19_bin  ps_calc_20_bin  \n",
       "0               1               0               0               1  \n",
       "1               1               0               1               0  \n",
       "2               1               0               1               0  \n",
       "3               0               0               0               0  \n",
       "4               0               1               1               0  "
      ]
     },
     "execution_count": 14,
     "metadata": {},
     "output_type": "execute_result"
    }
   ],
   "source": [
    "auto[binary_var].head()"
   ]
  },
  {
   "cell_type": "markdown",
   "id": "6268e9a0",
   "metadata": {
    "papermill": {
     "duration": 0.024571,
     "end_time": "2023-08-07T04:32:53.130678",
     "exception": false,
     "start_time": "2023-08-07T04:32:53.106107",
     "status": "completed"
    },
    "tags": []
   },
   "source": [
    "- Ordinal variables here are sort of one-hot encoded fetures here, which is integral in nature ranging from 0 to some integer \"n\".\n",
    "- Interval variables appear to be of type float.\n",
    "- Binary variables are the ones that only take (0 or 1) values."
   ]
  },
  {
   "cell_type": "markdown",
   "id": "4519ded7",
   "metadata": {
    "papermill": {
     "duration": 0.024495,
     "end_time": "2023-08-07T04:32:53.179941",
     "exception": false,
     "start_time": "2023-08-07T04:32:53.155446",
     "status": "completed"
    },
    "tags": []
   },
   "source": []
  },
  {
   "cell_type": "code",
   "execution_count": 15,
   "id": "b02784d5",
   "metadata": {
    "execution": {
     "iopub.execute_input": "2023-08-07T04:32:53.231434Z",
     "iopub.status.busy": "2023-08-07T04:32:53.230645Z",
     "iopub.status.idle": "2023-08-07T04:32:53.238130Z",
     "shell.execute_reply": "2023-08-07T04:32:53.237154Z"
    },
    "papermill": {
     "duration": 0.035633,
     "end_time": "2023-08-07T04:32:53.240263",
     "exception": false,
     "start_time": "2023-08-07T04:32:53.204630",
     "status": "completed"
    },
    "tags": []
   },
   "outputs": [
    {
     "data": {
      "text/plain": [
       "'plt.figure(figsize=(15,15))\\nfor i in enumerate(interval_var):\\n    plt.subplot(5,2,i[0]+1)\\n    sns.distplot(auto[i[1]])\\n    plt.tight_layout()'"
      ]
     },
     "execution_count": 15,
     "metadata": {},
     "output_type": "execute_result"
    }
   ],
   "source": [
    "\"\"\"plt.figure(figsize=(15,15))\n",
    "for i in enumerate(interval_var):\n",
    "    plt.subplot(5,2,i[0]+1)\n",
    "    sns.distplot(auto[i[1]])\n",
    "    plt.tight_layout()\"\"\""
   ]
  },
  {
   "cell_type": "code",
   "execution_count": 16,
   "id": "89902fa0",
   "metadata": {
    "execution": {
     "iopub.execute_input": "2023-08-07T04:32:53.292893Z",
     "iopub.status.busy": "2023-08-07T04:32:53.291620Z",
     "iopub.status.idle": "2023-08-07T04:32:53.299419Z",
     "shell.execute_reply": "2023-08-07T04:32:53.298194Z"
    },
    "papermill": {
     "duration": 0.03637,
     "end_time": "2023-08-07T04:32:53.301715",
     "exception": false,
     "start_time": "2023-08-07T04:32:53.265345",
     "status": "completed"
    },
    "tags": []
   },
   "outputs": [
    {
     "data": {
      "text/plain": [
       "'plt.figure(figsize=(15,15))\\nfor i in enumerate(interval_var):\\n    plt.subplot(5,2,i[0]+1)\\n    sns.boxplot(x=auto[i[1]])\\n    plt.tight_layout()'"
      ]
     },
     "execution_count": 16,
     "metadata": {},
     "output_type": "execute_result"
    }
   ],
   "source": [
    "\"\"\"plt.figure(figsize=(15,15))\n",
    "for i in enumerate(interval_var):\n",
    "    plt.subplot(5,2,i[0]+1)\n",
    "    sns.boxplot(x=auto[i[1]])\n",
    "    plt.tight_layout()\"\"\""
   ]
  },
  {
   "cell_type": "code",
   "execution_count": 17,
   "id": "4183ddcc",
   "metadata": {
    "execution": {
     "iopub.execute_input": "2023-08-07T04:32:53.354388Z",
     "iopub.status.busy": "2023-08-07T04:32:53.353928Z",
     "iopub.status.idle": "2023-08-07T04:32:53.360917Z",
     "shell.execute_reply": "2023-08-07T04:32:53.359761Z"
    },
    "papermill": {
     "duration": 0.036055,
     "end_time": "2023-08-07T04:32:53.363192",
     "exception": false,
     "start_time": "2023-08-07T04:32:53.327137",
     "status": "completed"
    },
    "tags": []
   },
   "outputs": [
    {
     "data": {
      "text/plain": [
       "'plt.figure(figsize=(15,15))\\nfor i in enumerate(ordinal_var):\\n    plt.subplot(4,4,i[0]+1)\\n    sns.distplot(auto[i[1]])\\n    plt.tight_layout()'"
      ]
     },
     "execution_count": 17,
     "metadata": {},
     "output_type": "execute_result"
    }
   ],
   "source": [
    "\"\"\"plt.figure(figsize=(15,15))\n",
    "for i in enumerate(ordinal_var):\n",
    "    plt.subplot(4,4,i[0]+1)\n",
    "    sns.distplot(auto[i[1]])\n",
    "    plt.tight_layout()\"\"\""
   ]
  },
  {
   "cell_type": "code",
   "execution_count": 18,
   "id": "4b6e350a",
   "metadata": {
    "execution": {
     "iopub.execute_input": "2023-08-07T04:32:53.416357Z",
     "iopub.status.busy": "2023-08-07T04:32:53.415961Z",
     "iopub.status.idle": "2023-08-07T04:32:53.421766Z",
     "shell.execute_reply": "2023-08-07T04:32:53.420997Z"
    },
    "papermill": {
     "duration": 0.035107,
     "end_time": "2023-08-07T04:32:53.423847",
     "exception": false,
     "start_time": "2023-08-07T04:32:53.388740",
     "status": "completed"
    },
    "tags": []
   },
   "outputs": [
    {
     "data": {
      "text/plain": [
       "'plt.figure(figsize=(15,15))\\nfor i in enumerate(ordinal_var):\\n    plt.subplot(4,4,i[0]+1)\\n    sns.boxplot(x=auto[i[1]])\\n    plt.tight_layout()'"
      ]
     },
     "execution_count": 18,
     "metadata": {},
     "output_type": "execute_result"
    }
   ],
   "source": [
    "\"\"\"plt.figure(figsize=(15,15))\n",
    "for i in enumerate(ordinal_var):\n",
    "    plt.subplot(4,4,i[0]+1)\n",
    "    sns.boxplot(x=auto[i[1]])\n",
    "    plt.tight_layout()\"\"\""
   ]
  },
  {
   "cell_type": "code",
   "execution_count": 19,
   "id": "94a2feaa",
   "metadata": {
    "execution": {
     "iopub.execute_input": "2023-08-07T04:32:53.477371Z",
     "iopub.status.busy": "2023-08-07T04:32:53.476953Z",
     "iopub.status.idle": "2023-08-07T04:32:53.483437Z",
     "shell.execute_reply": "2023-08-07T04:32:53.482336Z"
    },
    "papermill": {
     "duration": 0.03598,
     "end_time": "2023-08-07T04:32:53.485871",
     "exception": false,
     "start_time": "2023-08-07T04:32:53.449891",
     "status": "completed"
    },
    "tags": []
   },
   "outputs": [
    {
     "data": {
      "text/plain": [
       "'plt.figure(figsize=(15,15))\\nfor i in enumerate(binary_var):\\n    plt.subplot(6,3,i[0]+1)\\n    sns.distplot(auto[i[1]])\\n    plt.tight_layout()'"
      ]
     },
     "execution_count": 19,
     "metadata": {},
     "output_type": "execute_result"
    }
   ],
   "source": [
    "\"\"\"plt.figure(figsize=(15,15))\n",
    "for i in enumerate(binary_var):\n",
    "    plt.subplot(6,3,i[0]+1)\n",
    "    sns.distplot(auto[i[1]])\n",
    "    plt.tight_layout()\"\"\""
   ]
  },
  {
   "cell_type": "code",
   "execution_count": 20,
   "id": "9f2710bf",
   "metadata": {
    "execution": {
     "iopub.execute_input": "2023-08-07T04:32:53.539852Z",
     "iopub.status.busy": "2023-08-07T04:32:53.539133Z",
     "iopub.status.idle": "2023-08-07T04:32:53.546115Z",
     "shell.execute_reply": "2023-08-07T04:32:53.545087Z"
    },
    "papermill": {
     "duration": 0.036535,
     "end_time": "2023-08-07T04:32:53.548250",
     "exception": false,
     "start_time": "2023-08-07T04:32:53.511715",
     "status": "completed"
    },
    "tags": []
   },
   "outputs": [
    {
     "data": {
      "text/plain": [
       "'plt.figure(figsize=(15,15))\\nfor i in enumerate(binary_var):\\n    plt.subplot(6,3,i[0]+1)\\n    sns.boxplot(x=auto[i[1]])\\n    plt.tight_layout()'"
      ]
     },
     "execution_count": 20,
     "metadata": {},
     "output_type": "execute_result"
    }
   ],
   "source": [
    "\"\"\"plt.figure(figsize=(15,15))\n",
    "for i in enumerate(binary_var):\n",
    "    plt.subplot(6,3,i[0]+1)\n",
    "    sns.boxplot(x=auto[i[1]])\n",
    "    plt.tight_layout()\"\"\""
   ]
  },
  {
   "cell_type": "markdown",
   "id": "dc6ba584",
   "metadata": {
    "papermill": {
     "duration": 0.027735,
     "end_time": "2023-08-07T04:32:53.602111",
     "exception": false,
     "start_time": "2023-08-07T04:32:53.574376",
     "status": "completed"
    },
    "tags": []
   },
   "source": [
    "- In interval variables, ps_reg_02, ps_reg_03, ps_car_12, ps_car_13, ps_car_14 and ps_car_15 have outliers present in them, while remaining are outlier-free. Also these are the variables that have skewed frequency distribution curve due to the presence of outliers.\n",
    "- In ordinal variables, except 4 variables like ps_ind_01, ps_ind_03, ps_ind_15 and ps_calc_05 all the remaining ordinal variable have atleast one outliers. Hence, we can observe slight skewness in them from the frequency distributin curve.\n",
    "- In binary variables, since we only have 2 values(0 and 1) outlier analysis doesn't needed.\n",
    "\n",
    "As the data is highly imbalanced, we will use SMOTES to balance the data. SMOTE works by selecting examples that are close in the feature space, drawing a line between the examples in the feature space and drawing a new sample at a point along that line."
   ]
  },
  {
   "cell_type": "markdown",
   "id": "1c278087",
   "metadata": {
    "papermill": {
     "duration": 0.025669,
     "end_time": "2023-08-07T04:32:53.653802",
     "exception": false,
     "start_time": "2023-08-07T04:32:53.628133",
     "status": "completed"
    },
    "tags": []
   },
   "source": [
    "#### No of features having missing values"
   ]
  },
  {
   "cell_type": "code",
   "execution_count": 21,
   "id": "a5bb7c64",
   "metadata": {
    "execution": {
     "iopub.execute_input": "2023-08-07T04:32:53.708194Z",
     "iopub.status.busy": "2023-08-07T04:32:53.707464Z",
     "iopub.status.idle": "2023-08-07T04:32:54.004447Z",
     "shell.execute_reply": "2023-08-07T04:32:54.003156Z"
    },
    "papermill": {
     "duration": 0.327134,
     "end_time": "2023-08-07T04:32:54.006950",
     "exception": false,
     "start_time": "2023-08-07T04:32:53.679816",
     "status": "completed"
    },
    "tags": []
   },
   "outputs": [
    {
     "name": "stdout",
     "output_type": "stream",
     "text": [
      "No. of features having missing values: 12\n"
     ]
    }
   ],
   "source": [
    "missing_count = 0\n",
    "for i in list(auto.columns):\n",
    "    if len(auto[auto[i]==-1])>0:\n",
    "        missing_count+=1  \n",
    "print(\"No. of features having missing values:\",missing_count)"
   ]
  },
  {
   "cell_type": "markdown",
   "id": "ce5b6dd2",
   "metadata": {
    "papermill": {
     "duration": 0.025975,
     "end_time": "2023-08-07T04:32:54.059145",
     "exception": false,
     "start_time": "2023-08-07T04:32:54.033170",
     "status": "completed"
    },
    "tags": []
   },
   "source": [
    "We will fill the missing values with the median value of the respective non-null features because as we saw earlier, many features have outliers, so filling with mean value is sub-optimal."
   ]
  },
  {
   "cell_type": "code",
   "execution_count": 22,
   "id": "779f113b",
   "metadata": {
    "execution": {
     "iopub.execute_input": "2023-08-07T04:32:54.113105Z",
     "iopub.status.busy": "2023-08-07T04:32:54.112684Z",
     "iopub.status.idle": "2023-08-07T04:32:54.402697Z",
     "shell.execute_reply": "2023-08-07T04:32:54.401435Z"
    },
    "papermill": {
     "duration": 0.31996,
     "end_time": "2023-08-07T04:32:54.405135",
     "exception": false,
     "start_time": "2023-08-07T04:32:54.085175",
     "status": "completed"
    },
    "tags": []
   },
   "outputs": [
    {
     "name": "stdout",
     "output_type": "stream",
     "text": [
      "['ps_ind_02_cat', 'ps_ind_04_cat', 'ps_ind_05_cat', 'ps_reg_03', 'ps_car_01_cat', 'ps_car_03_cat', 'ps_car_05_cat', 'ps_car_07_cat', 'ps_car_09_cat', 'ps_car_11', 'ps_car_12', 'ps_car_14']\n"
     ]
    }
   ],
   "source": [
    "# here null values are represent as -1\n",
    "missing_null = []\n",
    "for i in list(auto.columns):\n",
    "    if len(auto[auto[i]==-1])>0:\n",
    "        missing_null.append(i)\n",
    "print(missing_null)"
   ]
  },
  {
   "cell_type": "code",
   "execution_count": 23,
   "id": "9cf678f5",
   "metadata": {
    "execution": {
     "iopub.execute_input": "2023-08-07T04:32:54.459981Z",
     "iopub.status.busy": "2023-08-07T04:32:54.459540Z",
     "iopub.status.idle": "2023-08-07T04:32:54.758452Z",
     "shell.execute_reply": "2023-08-07T04:32:54.757581Z"
    },
    "papermill": {
     "duration": 0.328957,
     "end_time": "2023-08-07T04:32:54.760664",
     "exception": false,
     "start_time": "2023-08-07T04:32:54.431707",
     "status": "completed"
    },
    "tags": []
   },
   "outputs": [
    {
     "name": "stdout",
     "output_type": "stream",
     "text": [
      "Variable ps_ind_02_cat has 216 records (0.04%) with missing values\n",
      "Variable ps_ind_04_cat has 83 records (0.01%) with missing values\n",
      "Variable ps_ind_05_cat has 5809 records (0.98%) with missing values\n",
      "Variable ps_reg_03 has 107772 records (18.11%) with missing values\n",
      "Variable ps_car_01_cat has 107 records (0.02%) with missing values\n",
      "Variable ps_car_03_cat has 411231 records (69.09%) with missing values\n",
      "Variable ps_car_05_cat has 266551 records (44.78%) with missing values\n",
      "Variable ps_car_07_cat has 11489 records (1.93%) with missing values\n",
      "Variable ps_car_09_cat has 569 records (0.10%) with missing values\n",
      "Variable ps_car_11 has 5 records (0.00%) with missing values\n",
      "Variable ps_car_12 has 1 records (0.00%) with missing values\n",
      "Variable ps_car_14 has 42620 records (7.16%) with missing values\n",
      "In total, there are 12 variables with missing values\n"
     ]
    }
   ],
   "source": [
    "vars_with_missing = []\n",
    "\n",
    "for i in auto.columns:\n",
    "    missings = auto[auto[i] == -1][i].count()\n",
    "    if missings > 0:\n",
    "        vars_with_missing.append(i)\n",
    "        missings_perc = missings/auto.shape[0]\n",
    "        \n",
    "        print('Variable {} has {} records ({:.2%}) with missing values'.format(i, missings, missings_perc))\n",
    "        \n",
    "print('In total, there are {} variables with missing values'.format(len(vars_with_missing)))"
   ]
  },
  {
   "cell_type": "markdown",
   "id": "6cf7a866",
   "metadata": {
    "papermill": {
     "duration": 0.026461,
     "end_time": "2023-08-07T04:32:54.813701",
     "exception": false,
     "start_time": "2023-08-07T04:32:54.787240",
     "status": "completed"
    },
    "tags": []
   },
   "source": [
    "#### Checking level of correlation among interval variables "
   ]
  },
  {
   "cell_type": "code",
   "execution_count": 24,
   "id": "951f04db",
   "metadata": {
    "execution": {
     "iopub.execute_input": "2023-08-07T04:32:54.869088Z",
     "iopub.status.busy": "2023-08-07T04:32:54.868362Z",
     "iopub.status.idle": "2023-08-07T04:32:54.901550Z",
     "shell.execute_reply": "2023-08-07T04:32:54.900542Z"
    },
    "papermill": {
     "duration": 0.063617,
     "end_time": "2023-08-07T04:32:54.903984",
     "exception": false,
     "start_time": "2023-08-07T04:32:54.840367",
     "status": "completed"
    },
    "tags": []
   },
   "outputs": [
    {
     "data": {
      "text/html": [
       "<div>\n",
       "<style scoped>\n",
       "    .dataframe tbody tr th:only-of-type {\n",
       "        vertical-align: middle;\n",
       "    }\n",
       "\n",
       "    .dataframe tbody tr th {\n",
       "        vertical-align: top;\n",
       "    }\n",
       "\n",
       "    .dataframe thead th {\n",
       "        text-align: right;\n",
       "    }\n",
       "</style>\n",
       "<table border=\"1\" class=\"dataframe\">\n",
       "  <thead>\n",
       "    <tr style=\"text-align: right;\">\n",
       "      <th></th>\n",
       "      <th>ps_reg_01</th>\n",
       "      <th>ps_reg_02</th>\n",
       "      <th>ps_reg_03</th>\n",
       "      <th>ps_car_12</th>\n",
       "      <th>ps_car_13</th>\n",
       "      <th>ps_car_14</th>\n",
       "      <th>ps_car_15</th>\n",
       "      <th>ps_calc_01</th>\n",
       "      <th>ps_calc_02</th>\n",
       "      <th>ps_calc_03</th>\n",
       "    </tr>\n",
       "  </thead>\n",
       "  <tbody>\n",
       "    <tr>\n",
       "      <th>0</th>\n",
       "      <td>0.70000</td>\n",
       "      <td>0.20000</td>\n",
       "      <td>0.71807</td>\n",
       "      <td>0.40000</td>\n",
       "      <td>0.88368</td>\n",
       "      <td>0.37081</td>\n",
       "      <td>3.60555</td>\n",
       "      <td>0.60000</td>\n",
       "      <td>0.50000</td>\n",
       "      <td>0.20000</td>\n",
       "    </tr>\n",
       "    <tr>\n",
       "      <th>1</th>\n",
       "      <td>0.80000</td>\n",
       "      <td>0.40000</td>\n",
       "      <td>0.76608</td>\n",
       "      <td>0.31623</td>\n",
       "      <td>0.61882</td>\n",
       "      <td>0.38872</td>\n",
       "      <td>2.44949</td>\n",
       "      <td>0.30000</td>\n",
       "      <td>0.10000</td>\n",
       "      <td>0.30000</td>\n",
       "    </tr>\n",
       "    <tr>\n",
       "      <th>2</th>\n",
       "      <td>0.00000</td>\n",
       "      <td>0.00000</td>\n",
       "      <td>-1.00000</td>\n",
       "      <td>0.31623</td>\n",
       "      <td>0.64159</td>\n",
       "      <td>0.34728</td>\n",
       "      <td>3.31662</td>\n",
       "      <td>0.50000</td>\n",
       "      <td>0.70000</td>\n",
       "      <td>0.10000</td>\n",
       "    </tr>\n",
       "    <tr>\n",
       "      <th>3</th>\n",
       "      <td>0.90000</td>\n",
       "      <td>0.20000</td>\n",
       "      <td>0.58095</td>\n",
       "      <td>0.37417</td>\n",
       "      <td>0.54295</td>\n",
       "      <td>0.29496</td>\n",
       "      <td>2.00000</td>\n",
       "      <td>0.60000</td>\n",
       "      <td>0.90000</td>\n",
       "      <td>0.10000</td>\n",
       "    </tr>\n",
       "    <tr>\n",
       "      <th>4</th>\n",
       "      <td>0.70000</td>\n",
       "      <td>0.60000</td>\n",
       "      <td>0.84076</td>\n",
       "      <td>0.31607</td>\n",
       "      <td>0.56583</td>\n",
       "      <td>0.36510</td>\n",
       "      <td>2.00000</td>\n",
       "      <td>0.40000</td>\n",
       "      <td>0.60000</td>\n",
       "      <td>0.00000</td>\n",
       "    </tr>\n",
       "    <tr>\n",
       "      <th>...</th>\n",
       "      <td>...</td>\n",
       "      <td>...</td>\n",
       "      <td>...</td>\n",
       "      <td>...</td>\n",
       "      <td>...</td>\n",
       "      <td>...</td>\n",
       "      <td>...</td>\n",
       "      <td>...</td>\n",
       "      <td>...</td>\n",
       "      <td>...</td>\n",
       "    </tr>\n",
       "    <tr>\n",
       "      <th>595207</th>\n",
       "      <td>0.50000</td>\n",
       "      <td>0.30000</td>\n",
       "      <td>0.69282</td>\n",
       "      <td>0.37417</td>\n",
       "      <td>0.68463</td>\n",
       "      <td>0.38549</td>\n",
       "      <td>2.64575</td>\n",
       "      <td>0.40000</td>\n",
       "      <td>0.50000</td>\n",
       "      <td>0.30000</td>\n",
       "    </tr>\n",
       "    <tr>\n",
       "      <th>595208</th>\n",
       "      <td>0.90000</td>\n",
       "      <td>0.70000</td>\n",
       "      <td>1.38203</td>\n",
       "      <td>0.38730</td>\n",
       "      <td>0.97214</td>\n",
       "      <td>-1.00000</td>\n",
       "      <td>3.60555</td>\n",
       "      <td>0.20000</td>\n",
       "      <td>0.20000</td>\n",
       "      <td>0.00000</td>\n",
       "    </tr>\n",
       "    <tr>\n",
       "      <th>595209</th>\n",
       "      <td>0.90000</td>\n",
       "      <td>0.20000</td>\n",
       "      <td>0.65907</td>\n",
       "      <td>0.39749</td>\n",
       "      <td>0.59637</td>\n",
       "      <td>0.39875</td>\n",
       "      <td>1.73205</td>\n",
       "      <td>0.40000</td>\n",
       "      <td>0.00000</td>\n",
       "      <td>0.30000</td>\n",
       "    </tr>\n",
       "    <tr>\n",
       "      <th>595210</th>\n",
       "      <td>0.90000</td>\n",
       "      <td>0.40000</td>\n",
       "      <td>0.69821</td>\n",
       "      <td>0.37417</td>\n",
       "      <td>0.76443</td>\n",
       "      <td>0.38497</td>\n",
       "      <td>3.16228</td>\n",
       "      <td>0.00000</td>\n",
       "      <td>0.70000</td>\n",
       "      <td>0.00000</td>\n",
       "    </tr>\n",
       "    <tr>\n",
       "      <th>595211</th>\n",
       "      <td>0.10000</td>\n",
       "      <td>0.20000</td>\n",
       "      <td>-1.00000</td>\n",
       "      <td>0.40000</td>\n",
       "      <td>0.93265</td>\n",
       "      <td>0.37802</td>\n",
       "      <td>3.74166</td>\n",
       "      <td>0.40000</td>\n",
       "      <td>0.00000</td>\n",
       "      <td>0.50000</td>\n",
       "    </tr>\n",
       "  </tbody>\n",
       "</table>\n",
       "<p>595212 rows × 10 columns</p>\n",
       "</div>"
      ],
      "text/plain": [
       "        ps_reg_01  ps_reg_02  ps_reg_03  ps_car_12  ps_car_13  ps_car_14  \\\n",
       "0         0.70000    0.20000    0.71807    0.40000    0.88368    0.37081   \n",
       "1         0.80000    0.40000    0.76608    0.31623    0.61882    0.38872   \n",
       "2         0.00000    0.00000   -1.00000    0.31623    0.64159    0.34728   \n",
       "3         0.90000    0.20000    0.58095    0.37417    0.54295    0.29496   \n",
       "4         0.70000    0.60000    0.84076    0.31607    0.56583    0.36510   \n",
       "...           ...        ...        ...        ...        ...        ...   \n",
       "595207    0.50000    0.30000    0.69282    0.37417    0.68463    0.38549   \n",
       "595208    0.90000    0.70000    1.38203    0.38730    0.97214   -1.00000   \n",
       "595209    0.90000    0.20000    0.65907    0.39749    0.59637    0.39875   \n",
       "595210    0.90000    0.40000    0.69821    0.37417    0.76443    0.38497   \n",
       "595211    0.10000    0.20000   -1.00000    0.40000    0.93265    0.37802   \n",
       "\n",
       "        ps_car_15  ps_calc_01  ps_calc_02  ps_calc_03  \n",
       "0         3.60555     0.60000     0.50000     0.20000  \n",
       "1         2.44949     0.30000     0.10000     0.30000  \n",
       "2         3.31662     0.50000     0.70000     0.10000  \n",
       "3         2.00000     0.60000     0.90000     0.10000  \n",
       "4         2.00000     0.40000     0.60000     0.00000  \n",
       "...           ...         ...         ...         ...  \n",
       "595207    2.64575     0.40000     0.50000     0.30000  \n",
       "595208    3.60555     0.20000     0.20000     0.00000  \n",
       "595209    1.73205     0.40000     0.00000     0.30000  \n",
       "595210    3.16228     0.00000     0.70000     0.00000  \n",
       "595211    3.74166     0.40000     0.00000     0.50000  \n",
       "\n",
       "[595212 rows x 10 columns]"
      ]
     },
     "execution_count": 24,
     "metadata": {},
     "output_type": "execute_result"
    }
   ],
   "source": [
    "auto[interval_var]"
   ]
  },
  {
   "cell_type": "code",
   "execution_count": 25,
   "id": "0a3d91fd",
   "metadata": {
    "execution": {
     "iopub.execute_input": "2023-08-07T04:32:54.960430Z",
     "iopub.status.busy": "2023-08-07T04:32:54.959635Z",
     "iopub.status.idle": "2023-08-07T04:32:55.198386Z",
     "shell.execute_reply": "2023-08-07T04:32:55.197333Z"
    },
    "papermill": {
     "duration": 0.269588,
     "end_time": "2023-08-07T04:32:55.200775",
     "exception": false,
     "start_time": "2023-08-07T04:32:54.931187",
     "status": "completed"
    },
    "tags": []
   },
   "outputs": [
    {
     "data": {
      "text/html": [
       "<div>\n",
       "<style scoped>\n",
       "    .dataframe tbody tr th:only-of-type {\n",
       "        vertical-align: middle;\n",
       "    }\n",
       "\n",
       "    .dataframe tbody tr th {\n",
       "        vertical-align: top;\n",
       "    }\n",
       "\n",
       "    .dataframe thead th {\n",
       "        text-align: right;\n",
       "    }\n",
       "</style>\n",
       "<table border=\"1\" class=\"dataframe\">\n",
       "  <thead>\n",
       "    <tr style=\"text-align: right;\">\n",
       "      <th></th>\n",
       "      <th>ps_reg_01</th>\n",
       "      <th>ps_reg_02</th>\n",
       "      <th>ps_reg_03</th>\n",
       "      <th>ps_car_12</th>\n",
       "      <th>ps_car_13</th>\n",
       "      <th>ps_car_14</th>\n",
       "      <th>ps_car_15</th>\n",
       "      <th>ps_calc_01</th>\n",
       "      <th>ps_calc_02</th>\n",
       "      <th>ps_calc_03</th>\n",
       "    </tr>\n",
       "  </thead>\n",
       "  <tbody>\n",
       "    <tr>\n",
       "      <th>ps_reg_01</th>\n",
       "      <td>1.00000</td>\n",
       "      <td>0.47103</td>\n",
       "      <td>0.63703</td>\n",
       "      <td>0.01880</td>\n",
       "      <td>0.02710</td>\n",
       "      <td>0.01270</td>\n",
       "      <td>0.00276</td>\n",
       "      <td>-0.00089</td>\n",
       "      <td>0.00219</td>\n",
       "      <td>-0.00154</td>\n",
       "    </tr>\n",
       "    <tr>\n",
       "      <th>ps_reg_02</th>\n",
       "      <td>0.47103</td>\n",
       "      <td>1.00000</td>\n",
       "      <td>0.51646</td>\n",
       "      <td>0.17142</td>\n",
       "      <td>0.19432</td>\n",
       "      <td>0.00415</td>\n",
       "      <td>0.05451</td>\n",
       "      <td>0.00135</td>\n",
       "      <td>-0.00077</td>\n",
       "      <td>0.00002</td>\n",
       "    </tr>\n",
       "    <tr>\n",
       "      <th>ps_reg_03</th>\n",
       "      <td>0.63703</td>\n",
       "      <td>0.51646</td>\n",
       "      <td>1.00000</td>\n",
       "      <td>0.08258</td>\n",
       "      <td>0.09942</td>\n",
       "      <td>0.00627</td>\n",
       "      <td>0.02293</td>\n",
       "      <td>-0.00148</td>\n",
       "      <td>0.00215</td>\n",
       "      <td>-0.00040</td>\n",
       "    </tr>\n",
       "    <tr>\n",
       "      <th>ps_car_12</th>\n",
       "      <td>0.01880</td>\n",
       "      <td>0.17142</td>\n",
       "      <td>0.08258</td>\n",
       "      <td>1.00000</td>\n",
       "      <td>0.67172</td>\n",
       "      <td>0.01240</td>\n",
       "      <td>0.04988</td>\n",
       "      <td>-0.00070</td>\n",
       "      <td>-0.00043</td>\n",
       "      <td>0.00017</td>\n",
       "    </tr>\n",
       "    <tr>\n",
       "      <th>ps_car_13</th>\n",
       "      <td>0.02710</td>\n",
       "      <td>0.19432</td>\n",
       "      <td>0.09942</td>\n",
       "      <td>0.67172</td>\n",
       "      <td>1.00000</td>\n",
       "      <td>-0.03731</td>\n",
       "      <td>0.52952</td>\n",
       "      <td>0.00016</td>\n",
       "      <td>0.00004</td>\n",
       "      <td>-0.00020</td>\n",
       "    </tr>\n",
       "    <tr>\n",
       "      <th>ps_car_14</th>\n",
       "      <td>0.01270</td>\n",
       "      <td>0.00415</td>\n",
       "      <td>0.00627</td>\n",
       "      <td>0.01240</td>\n",
       "      <td>-0.03731</td>\n",
       "      <td>1.00000</td>\n",
       "      <td>-0.03306</td>\n",
       "      <td>-0.00119</td>\n",
       "      <td>0.00122</td>\n",
       "      <td>0.00043</td>\n",
       "    </tr>\n",
       "    <tr>\n",
       "      <th>ps_car_15</th>\n",
       "      <td>0.00276</td>\n",
       "      <td>0.05451</td>\n",
       "      <td>0.02293</td>\n",
       "      <td>0.04988</td>\n",
       "      <td>0.52952</td>\n",
       "      <td>-0.03306</td>\n",
       "      <td>1.00000</td>\n",
       "      <td>0.00034</td>\n",
       "      <td>-0.00025</td>\n",
       "      <td>-0.00104</td>\n",
       "    </tr>\n",
       "    <tr>\n",
       "      <th>ps_calc_01</th>\n",
       "      <td>-0.00089</td>\n",
       "      <td>0.00135</td>\n",
       "      <td>-0.00148</td>\n",
       "      <td>-0.00070</td>\n",
       "      <td>0.00016</td>\n",
       "      <td>-0.00119</td>\n",
       "      <td>0.00034</td>\n",
       "      <td>1.00000</td>\n",
       "      <td>-0.00242</td>\n",
       "      <td>0.00053</td>\n",
       "    </tr>\n",
       "    <tr>\n",
       "      <th>ps_calc_02</th>\n",
       "      <td>0.00219</td>\n",
       "      <td>-0.00077</td>\n",
       "      <td>0.00215</td>\n",
       "      <td>-0.00043</td>\n",
       "      <td>0.00004</td>\n",
       "      <td>0.00122</td>\n",
       "      <td>-0.00025</td>\n",
       "      <td>-0.00242</td>\n",
       "      <td>1.00000</td>\n",
       "      <td>0.00295</td>\n",
       "    </tr>\n",
       "    <tr>\n",
       "      <th>ps_calc_03</th>\n",
       "      <td>-0.00154</td>\n",
       "      <td>0.00002</td>\n",
       "      <td>-0.00040</td>\n",
       "      <td>0.00017</td>\n",
       "      <td>-0.00020</td>\n",
       "      <td>0.00043</td>\n",
       "      <td>-0.00104</td>\n",
       "      <td>0.00053</td>\n",
       "      <td>0.00295</td>\n",
       "      <td>1.00000</td>\n",
       "    </tr>\n",
       "  </tbody>\n",
       "</table>\n",
       "</div>"
      ],
      "text/plain": [
       "            ps_reg_01  ps_reg_02  ps_reg_03  ps_car_12  ps_car_13  ps_car_14  \\\n",
       "ps_reg_01     1.00000    0.47103    0.63703    0.01880    0.02710    0.01270   \n",
       "ps_reg_02     0.47103    1.00000    0.51646    0.17142    0.19432    0.00415   \n",
       "ps_reg_03     0.63703    0.51646    1.00000    0.08258    0.09942    0.00627   \n",
       "ps_car_12     0.01880    0.17142    0.08258    1.00000    0.67172    0.01240   \n",
       "ps_car_13     0.02710    0.19432    0.09942    0.67172    1.00000   -0.03731   \n",
       "ps_car_14     0.01270    0.00415    0.00627    0.01240   -0.03731    1.00000   \n",
       "ps_car_15     0.00276    0.05451    0.02293    0.04988    0.52952   -0.03306   \n",
       "ps_calc_01   -0.00089    0.00135   -0.00148   -0.00070    0.00016   -0.00119   \n",
       "ps_calc_02    0.00219   -0.00077    0.00215   -0.00043    0.00004    0.00122   \n",
       "ps_calc_03   -0.00154    0.00002   -0.00040    0.00017   -0.00020    0.00043   \n",
       "\n",
       "            ps_car_15  ps_calc_01  ps_calc_02  ps_calc_03  \n",
       "ps_reg_01     0.00276    -0.00089     0.00219    -0.00154  \n",
       "ps_reg_02     0.05451     0.00135    -0.00077     0.00002  \n",
       "ps_reg_03     0.02293    -0.00148     0.00215    -0.00040  \n",
       "ps_car_12     0.04988    -0.00070    -0.00043     0.00017  \n",
       "ps_car_13     0.52952     0.00016     0.00004    -0.00020  \n",
       "ps_car_14    -0.03306    -0.00119     0.00122     0.00043  \n",
       "ps_car_15     1.00000     0.00034    -0.00025    -0.00104  \n",
       "ps_calc_01    0.00034     1.00000    -0.00242     0.00053  \n",
       "ps_calc_02   -0.00025    -0.00242     1.00000     0.00295  \n",
       "ps_calc_03   -0.00104     0.00053     0.00295     1.00000  "
      ]
     },
     "execution_count": 25,
     "metadata": {},
     "output_type": "execute_result"
    }
   ],
   "source": [
    "auto[interval_var].corr()"
   ]
  },
  {
   "cell_type": "code",
   "execution_count": 26,
   "id": "337b5fea",
   "metadata": {
    "execution": {
     "iopub.execute_input": "2023-08-07T04:32:55.257759Z",
     "iopub.status.busy": "2023-08-07T04:32:55.257095Z",
     "iopub.status.idle": "2023-08-07T04:32:56.198727Z",
     "shell.execute_reply": "2023-08-07T04:32:56.197832Z"
    },
    "papermill": {
     "duration": 0.972899,
     "end_time": "2023-08-07T04:32:56.201293",
     "exception": false,
     "start_time": "2023-08-07T04:32:55.228394",
     "status": "completed"
    },
    "tags": []
   },
   "outputs": [
    {
     "data": {
      "text/plain": [
       "<Axes: >"
      ]
     },
     "execution_count": 26,
     "metadata": {},
     "output_type": "execute_result"
    },
    {
     "data": {
      "image/png": "[encoded data removed]",
      "text/plain": [
       "<Figure size 640x480 with 2 Axes>"
      ]
     },
     "metadata": {},
     "output_type": "display_data"
    }
   ],
   "source": [
    "sns.heatmap(auto[interval_var].corr(),annot=True,fmt='.2f')"
   ]
  },
  {
   "cell_type": "markdown",
   "id": "9e3de418",
   "metadata": {
    "papermill": {
     "duration": 0.029692,
     "end_time": "2023-08-07T04:32:56.260272",
     "exception": false,
     "start_time": "2023-08-07T04:32:56.230580",
     "status": "completed"
    },
    "tags": []
   },
   "source": [
    "- ps_car_13, ps_car_12 and ps_reg_02 are the top 3 features that exhibit strong correlation with the target variable.\n",
    "- In terms of correlation amongst interval variables (ps_reg_02, ps_reg_03) exhibit highest correlation, (ps_car_12, ps_car_13,ps_car_14,ps_car_15) and (ps_reg_01, ps_reg_02) exihibit medium level correlation"
   ]
  },
  {
   "cell_type": "markdown",
   "id": "2ab367c7",
   "metadata": {
    "papermill": {
     "duration": 0.02863,
     "end_time": "2023-08-07T04:32:56.317700",
     "exception": false,
     "start_time": "2023-08-07T04:32:56.289070",
     "status": "completed"
    },
    "tags": []
   },
   "source": [
    "#### Checking level of correlation among ordinal variables"
   ]
  },
  {
   "cell_type": "code",
   "execution_count": 27,
   "id": "a403b78b",
   "metadata": {
    "execution": {
     "iopub.execute_input": "2023-08-07T04:32:56.377615Z",
     "iopub.status.busy": "2023-08-07T04:32:56.376784Z",
     "iopub.status.idle": "2023-08-07T04:32:56.942972Z",
     "shell.execute_reply": "2023-08-07T04:32:56.942084Z"
    },
    "papermill": {
     "duration": 0.59872,
     "end_time": "2023-08-07T04:32:56.945213",
     "exception": false,
     "start_time": "2023-08-07T04:32:56.346493",
     "status": "completed"
    },
    "tags": []
   },
   "outputs": [
    {
     "data": {
      "text/html": [
       "<div>\n",
       "<style scoped>\n",
       "    .dataframe tbody tr th:only-of-type {\n",
       "        vertical-align: middle;\n",
       "    }\n",
       "\n",
       "    .dataframe tbody tr th {\n",
       "        vertical-align: top;\n",
       "    }\n",
       "\n",
       "    .dataframe thead th {\n",
       "        text-align: right;\n",
       "    }\n",
       "</style>\n",
       "<table border=\"1\" class=\"dataframe\">\n",
       "  <thead>\n",
       "    <tr style=\"text-align: right;\">\n",
       "      <th></th>\n",
       "      <th>ps_ind_01</th>\n",
       "      <th>ps_ind_03</th>\n",
       "      <th>ps_ind_14</th>\n",
       "      <th>ps_ind_15</th>\n",
       "      <th>ps_car_11</th>\n",
       "      <th>ps_calc_04</th>\n",
       "      <th>ps_calc_05</th>\n",
       "      <th>ps_calc_06</th>\n",
       "      <th>ps_calc_07</th>\n",
       "      <th>ps_calc_08</th>\n",
       "      <th>ps_calc_09</th>\n",
       "      <th>ps_calc_10</th>\n",
       "      <th>ps_calc_11</th>\n",
       "      <th>ps_calc_12</th>\n",
       "      <th>ps_calc_13</th>\n",
       "      <th>ps_calc_14</th>\n",
       "    </tr>\n",
       "  </thead>\n",
       "  <tbody>\n",
       "    <tr>\n",
       "      <th>ps_ind_01</th>\n",
       "      <td>1.00000</td>\n",
       "      <td>0.22341</td>\n",
       "      <td>-0.02497</td>\n",
       "      <td>0.12214</td>\n",
       "      <td>0.00825</td>\n",
       "      <td>-0.00094</td>\n",
       "      <td>-0.00117</td>\n",
       "      <td>0.00015</td>\n",
       "      <td>-0.00066</td>\n",
       "      <td>0.00299</td>\n",
       "      <td>-0.00009</td>\n",
       "      <td>-0.00134</td>\n",
       "      <td>-0.00126</td>\n",
       "      <td>0.00152</td>\n",
       "      <td>0.00020</td>\n",
       "      <td>-0.00089</td>\n",
       "    </tr>\n",
       "    <tr>\n",
       "      <th>ps_ind_03</th>\n",
       "      <td>0.22341</td>\n",
       "      <td>1.00000</td>\n",
       "      <td>0.00199</td>\n",
       "      <td>0.17045</td>\n",
       "      <td>-0.05936</td>\n",
       "      <td>0.00070</td>\n",
       "      <td>-0.00124</td>\n",
       "      <td>0.00236</td>\n",
       "      <td>0.00153</td>\n",
       "      <td>0.00127</td>\n",
       "      <td>-0.00154</td>\n",
       "      <td>0.00023</td>\n",
       "      <td>-0.00272</td>\n",
       "      <td>-0.00235</td>\n",
       "      <td>0.00013</td>\n",
       "      <td>0.00020</td>\n",
       "    </tr>\n",
       "    <tr>\n",
       "      <th>ps_ind_14</th>\n",
       "      <td>-0.02497</td>\n",
       "      <td>0.00199</td>\n",
       "      <td>1.00000</td>\n",
       "      <td>-0.12155</td>\n",
       "      <td>0.00442</td>\n",
       "      <td>-0.00110</td>\n",
       "      <td>0.00021</td>\n",
       "      <td>-0.00024</td>\n",
       "      <td>0.00102</td>\n",
       "      <td>0.00408</td>\n",
       "      <td>-0.00144</td>\n",
       "      <td>0.00198</td>\n",
       "      <td>-0.00024</td>\n",
       "      <td>0.00028</td>\n",
       "      <td>0.00031</td>\n",
       "      <td>-0.00039</td>\n",
       "    </tr>\n",
       "    <tr>\n",
       "      <th>ps_ind_15</th>\n",
       "      <td>0.12214</td>\n",
       "      <td>0.17045</td>\n",
       "      <td>-0.12155</td>\n",
       "      <td>1.00000</td>\n",
       "      <td>0.02300</td>\n",
       "      <td>0.00158</td>\n",
       "      <td>0.00087</td>\n",
       "      <td>0.00003</td>\n",
       "      <td>0.00172</td>\n",
       "      <td>-0.00131</td>\n",
       "      <td>-0.00098</td>\n",
       "      <td>-0.00128</td>\n",
       "      <td>-0.00195</td>\n",
       "      <td>-0.00126</td>\n",
       "      <td>-0.00092</td>\n",
       "      <td>0.00135</td>\n",
       "    </tr>\n",
       "    <tr>\n",
       "      <th>ps_car_11</th>\n",
       "      <td>0.00825</td>\n",
       "      <td>-0.05936</td>\n",
       "      <td>0.00442</td>\n",
       "      <td>0.02300</td>\n",
       "      <td>1.00000</td>\n",
       "      <td>0.00022</td>\n",
       "      <td>0.00246</td>\n",
       "      <td>-0.00025</td>\n",
       "      <td>-0.00033</td>\n",
       "      <td>-0.00246</td>\n",
       "      <td>-0.00051</td>\n",
       "      <td>-0.00057</td>\n",
       "      <td>-0.00121</td>\n",
       "      <td>-0.00118</td>\n",
       "      <td>0.00113</td>\n",
       "      <td>0.00094</td>\n",
       "    </tr>\n",
       "    <tr>\n",
       "      <th>ps_calc_04</th>\n",
       "      <td>-0.00094</td>\n",
       "      <td>0.00070</td>\n",
       "      <td>-0.00110</td>\n",
       "      <td>0.00158</td>\n",
       "      <td>0.00022</td>\n",
       "      <td>1.00000</td>\n",
       "      <td>0.00063</td>\n",
       "      <td>-0.00185</td>\n",
       "      <td>0.00145</td>\n",
       "      <td>-0.00185</td>\n",
       "      <td>-0.00004</td>\n",
       "      <td>0.00000</td>\n",
       "      <td>0.00024</td>\n",
       "      <td>0.00098</td>\n",
       "      <td>-0.00021</td>\n",
       "      <td>0.00118</td>\n",
       "    </tr>\n",
       "    <tr>\n",
       "      <th>ps_calc_05</th>\n",
       "      <td>-0.00117</td>\n",
       "      <td>-0.00124</td>\n",
       "      <td>0.00021</td>\n",
       "      <td>0.00087</td>\n",
       "      <td>0.00246</td>\n",
       "      <td>0.00063</td>\n",
       "      <td>1.00000</td>\n",
       "      <td>-0.00139</td>\n",
       "      <td>-0.00221</td>\n",
       "      <td>-0.00179</td>\n",
       "      <td>0.00115</td>\n",
       "      <td>-0.00024</td>\n",
       "      <td>0.00039</td>\n",
       "      <td>-0.00021</td>\n",
       "      <td>0.00027</td>\n",
       "      <td>-0.00097</td>\n",
       "    </tr>\n",
       "    <tr>\n",
       "      <th>ps_calc_06</th>\n",
       "      <td>0.00015</td>\n",
       "      <td>0.00236</td>\n",
       "      <td>-0.00024</td>\n",
       "      <td>0.00003</td>\n",
       "      <td>-0.00025</td>\n",
       "      <td>-0.00185</td>\n",
       "      <td>-0.00139</td>\n",
       "      <td>1.00000</td>\n",
       "      <td>-0.00008</td>\n",
       "      <td>-0.00060</td>\n",
       "      <td>0.00171</td>\n",
       "      <td>-0.00153</td>\n",
       "      <td>-0.00057</td>\n",
       "      <td>0.00061</td>\n",
       "      <td>0.00097</td>\n",
       "      <td>-0.00087</td>\n",
       "    </tr>\n",
       "    <tr>\n",
       "      <th>ps_calc_07</th>\n",
       "      <td>-0.00066</td>\n",
       "      <td>0.00153</td>\n",
       "      <td>0.00102</td>\n",
       "      <td>0.00172</td>\n",
       "      <td>-0.00033</td>\n",
       "      <td>0.00145</td>\n",
       "      <td>-0.00221</td>\n",
       "      <td>-0.00008</td>\n",
       "      <td>1.00000</td>\n",
       "      <td>-0.00208</td>\n",
       "      <td>0.00076</td>\n",
       "      <td>-0.00053</td>\n",
       "      <td>-0.00011</td>\n",
       "      <td>-0.00039</td>\n",
       "      <td>-0.00060</td>\n",
       "      <td>0.00191</td>\n",
       "    </tr>\n",
       "    <tr>\n",
       "      <th>ps_calc_08</th>\n",
       "      <td>0.00299</td>\n",
       "      <td>0.00127</td>\n",
       "      <td>0.00408</td>\n",
       "      <td>-0.00131</td>\n",
       "      <td>-0.00246</td>\n",
       "      <td>-0.00185</td>\n",
       "      <td>-0.00179</td>\n",
       "      <td>-0.00060</td>\n",
       "      <td>-0.00208</td>\n",
       "      <td>1.00000</td>\n",
       "      <td>0.00001</td>\n",
       "      <td>-0.00267</td>\n",
       "      <td>0.00202</td>\n",
       "      <td>0.00011</td>\n",
       "      <td>-0.00030</td>\n",
       "      <td>-0.00017</td>\n",
       "    </tr>\n",
       "    <tr>\n",
       "      <th>ps_calc_09</th>\n",
       "      <td>-0.00009</td>\n",
       "      <td>-0.00154</td>\n",
       "      <td>-0.00144</td>\n",
       "      <td>-0.00098</td>\n",
       "      <td>-0.00051</td>\n",
       "      <td>-0.00004</td>\n",
       "      <td>0.00115</td>\n",
       "      <td>0.00171</td>\n",
       "      <td>0.00076</td>\n",
       "      <td>0.00001</td>\n",
       "      <td>1.00000</td>\n",
       "      <td>-0.00018</td>\n",
       "      <td>-0.00090</td>\n",
       "      <td>-0.00141</td>\n",
       "      <td>-0.00063</td>\n",
       "      <td>-0.00007</td>\n",
       "    </tr>\n",
       "    <tr>\n",
       "      <th>ps_calc_10</th>\n",
       "      <td>-0.00134</td>\n",
       "      <td>0.00023</td>\n",
       "      <td>0.00198</td>\n",
       "      <td>-0.00128</td>\n",
       "      <td>-0.00057</td>\n",
       "      <td>0.00000</td>\n",
       "      <td>-0.00024</td>\n",
       "      <td>-0.00153</td>\n",
       "      <td>-0.00053</td>\n",
       "      <td>-0.00267</td>\n",
       "      <td>-0.00018</td>\n",
       "      <td>1.00000</td>\n",
       "      <td>0.00039</td>\n",
       "      <td>0.00209</td>\n",
       "      <td>0.00128</td>\n",
       "      <td>0.00125</td>\n",
       "    </tr>\n",
       "    <tr>\n",
       "      <th>ps_calc_11</th>\n",
       "      <td>-0.00126</td>\n",
       "      <td>-0.00272</td>\n",
       "      <td>-0.00024</td>\n",
       "      <td>-0.00195</td>\n",
       "      <td>-0.00121</td>\n",
       "      <td>0.00024</td>\n",
       "      <td>0.00039</td>\n",
       "      <td>-0.00057</td>\n",
       "      <td>-0.00011</td>\n",
       "      <td>0.00202</td>\n",
       "      <td>-0.00090</td>\n",
       "      <td>0.00039</td>\n",
       "      <td>1.00000</td>\n",
       "      <td>0.00104</td>\n",
       "      <td>0.00370</td>\n",
       "      <td>0.00048</td>\n",
       "    </tr>\n",
       "    <tr>\n",
       "      <th>ps_calc_12</th>\n",
       "      <td>0.00152</td>\n",
       "      <td>-0.00235</td>\n",
       "      <td>0.00028</td>\n",
       "      <td>-0.00126</td>\n",
       "      <td>-0.00118</td>\n",
       "      <td>0.00098</td>\n",
       "      <td>-0.00021</td>\n",
       "      <td>0.00061</td>\n",
       "      <td>-0.00039</td>\n",
       "      <td>0.00011</td>\n",
       "      <td>-0.00141</td>\n",
       "      <td>0.00209</td>\n",
       "      <td>0.00104</td>\n",
       "      <td>1.00000</td>\n",
       "      <td>-0.00030</td>\n",
       "      <td>0.00098</td>\n",
       "    </tr>\n",
       "    <tr>\n",
       "      <th>ps_calc_13</th>\n",
       "      <td>0.00020</td>\n",
       "      <td>0.00013</td>\n",
       "      <td>0.00031</td>\n",
       "      <td>-0.00092</td>\n",
       "      <td>0.00113</td>\n",
       "      <td>-0.00021</td>\n",
       "      <td>0.00027</td>\n",
       "      <td>0.00097</td>\n",
       "      <td>-0.00060</td>\n",
       "      <td>-0.00030</td>\n",
       "      <td>-0.00063</td>\n",
       "      <td>0.00128</td>\n",
       "      <td>0.00370</td>\n",
       "      <td>-0.00030</td>\n",
       "      <td>1.00000</td>\n",
       "      <td>-0.00233</td>\n",
       "    </tr>\n",
       "    <tr>\n",
       "      <th>ps_calc_14</th>\n",
       "      <td>-0.00089</td>\n",
       "      <td>0.00020</td>\n",
       "      <td>-0.00039</td>\n",
       "      <td>0.00135</td>\n",
       "      <td>0.00094</td>\n",
       "      <td>0.00118</td>\n",
       "      <td>-0.00097</td>\n",
       "      <td>-0.00087</td>\n",
       "      <td>0.00191</td>\n",
       "      <td>-0.00017</td>\n",
       "      <td>-0.00007</td>\n",
       "      <td>0.00125</td>\n",
       "      <td>0.00048</td>\n",
       "      <td>0.00098</td>\n",
       "      <td>-0.00233</td>\n",
       "      <td>1.00000</td>\n",
       "    </tr>\n",
       "  </tbody>\n",
       "</table>\n",
       "</div>"
      ],
      "text/plain": [
       "            ps_ind_01  ps_ind_03  ps_ind_14  ps_ind_15  ps_car_11  ps_calc_04  \\\n",
       "ps_ind_01     1.00000    0.22341   -0.02497    0.12214    0.00825    -0.00094   \n",
       "ps_ind_03     0.22341    1.00000    0.00199    0.17045   -0.05936     0.00070   \n",
       "ps_ind_14    -0.02497    0.00199    1.00000   -0.12155    0.00442    -0.00110   \n",
       "ps_ind_15     0.12214    0.17045   -0.12155    1.00000    0.02300     0.00158   \n",
       "ps_car_11     0.00825   -0.05936    0.00442    0.02300    1.00000     0.00022   \n",
       "ps_calc_04   -0.00094    0.00070   -0.00110    0.00158    0.00022     1.00000   \n",
       "ps_calc_05   -0.00117   -0.00124    0.00021    0.00087    0.00246     0.00063   \n",
       "ps_calc_06    0.00015    0.00236   -0.00024    0.00003   -0.00025    -0.00185   \n",
       "ps_calc_07   -0.00066    0.00153    0.00102    0.00172   -0.00033     0.00145   \n",
       "ps_calc_08    0.00299    0.00127    0.00408   -0.00131   -0.00246    -0.00185   \n",
       "ps_calc_09   -0.00009   -0.00154   -0.00144   -0.00098   -0.00051    -0.00004   \n",
       "ps_calc_10   -0.00134    0.00023    0.00198   -0.00128   -0.00057     0.00000   \n",
       "ps_calc_11   -0.00126   -0.00272   -0.00024   -0.00195   -0.00121     0.00024   \n",
       "ps_calc_12    0.00152   -0.00235    0.00028   -0.00126   -0.00118     0.00098   \n",
       "ps_calc_13    0.00020    0.00013    0.00031   -0.00092    0.00113    -0.00021   \n",
       "ps_calc_14   -0.00089    0.00020   -0.00039    0.00135    0.00094     0.00118   \n",
       "\n",
       "            ps_calc_05  ps_calc_06  ps_calc_07  ps_calc_08  ps_calc_09  \\\n",
       "ps_ind_01     -0.00117     0.00015    -0.00066     0.00299    -0.00009   \n",
       "ps_ind_03     -0.00124     0.00236     0.00153     0.00127    -0.00154   \n",
       "ps_ind_14      0.00021    -0.00024     0.00102     0.00408    -0.00144   \n",
       "ps_ind_15      0.00087     0.00003     0.00172    -0.00131    -0.00098   \n",
       "ps_car_11      0.00246    -0.00025    -0.00033    -0.00246    -0.00051   \n",
       "ps_calc_04     0.00063    -0.00185     0.00145    -0.00185    -0.00004   \n",
       "ps_calc_05     1.00000    -0.00139    -0.00221    -0.00179     0.00115   \n",
       "ps_calc_06    -0.00139     1.00000    -0.00008    -0.00060     0.00171   \n",
       "ps_calc_07    -0.00221    -0.00008     1.00000    -0.00208     0.00076   \n",
       "ps_calc_08    -0.00179    -0.00060    -0.00208     1.00000     0.00001   \n",
       "ps_calc_09     0.00115     0.00171     0.00076     0.00001     1.00000   \n",
       "ps_calc_10    -0.00024    -0.00153    -0.00053    -0.00267    -0.00018   \n",
       "ps_calc_11     0.00039    -0.00057    -0.00011     0.00202    -0.00090   \n",
       "ps_calc_12    -0.00021     0.00061    -0.00039     0.00011    -0.00141   \n",
       "ps_calc_13     0.00027     0.00097    -0.00060    -0.00030    -0.00063   \n",
       "ps_calc_14    -0.00097    -0.00087     0.00191    -0.00017    -0.00007   \n",
       "\n",
       "            ps_calc_10  ps_calc_11  ps_calc_12  ps_calc_13  ps_calc_14  \n",
       "ps_ind_01     -0.00134    -0.00126     0.00152     0.00020    -0.00089  \n",
       "ps_ind_03      0.00023    -0.00272    -0.00235     0.00013     0.00020  \n",
       "ps_ind_14      0.00198    -0.00024     0.00028     0.00031    -0.00039  \n",
       "ps_ind_15     -0.00128    -0.00195    -0.00126    -0.00092     0.00135  \n",
       "ps_car_11     -0.00057    -0.00121    -0.00118     0.00113     0.00094  \n",
       "ps_calc_04     0.00000     0.00024     0.00098    -0.00021     0.00118  \n",
       "ps_calc_05    -0.00024     0.00039    -0.00021     0.00027    -0.00097  \n",
       "ps_calc_06    -0.00153    -0.00057     0.00061     0.00097    -0.00087  \n",
       "ps_calc_07    -0.00053    -0.00011    -0.00039    -0.00060     0.00191  \n",
       "ps_calc_08    -0.00267     0.00202     0.00011    -0.00030    -0.00017  \n",
       "ps_calc_09    -0.00018    -0.00090    -0.00141    -0.00063    -0.00007  \n",
       "ps_calc_10     1.00000     0.00039     0.00209     0.00128     0.00125  \n",
       "ps_calc_11     0.00039     1.00000     0.00104     0.00370     0.00048  \n",
       "ps_calc_12     0.00209     0.00104     1.00000    -0.00030     0.00098  \n",
       "ps_calc_13     0.00128     0.00370    -0.00030     1.00000    -0.00233  \n",
       "ps_calc_14     0.00125     0.00048     0.00098    -0.00233     1.00000  "
      ]
     },
     "execution_count": 27,
     "metadata": {},
     "output_type": "execute_result"
    }
   ],
   "source": [
    "auto[ordinal_var].corr()"
   ]
  },
  {
   "cell_type": "code",
   "execution_count": 28,
   "id": "8b233db8",
   "metadata": {
    "execution": {
     "iopub.execute_input": "2023-08-07T04:32:57.007071Z",
     "iopub.status.busy": "2023-08-07T04:32:57.006174Z",
     "iopub.status.idle": "2023-08-07T04:32:58.932257Z",
     "shell.execute_reply": "2023-08-07T04:32:58.931121Z"
    },
    "papermill": {
     "duration": 1.959668,
     "end_time": "2023-08-07T04:32:58.934747",
     "exception": false,
     "start_time": "2023-08-07T04:32:56.975079",
     "status": "completed"
    },
    "tags": []
   },
   "outputs": [
    {
     "data": {
      "text/plain": [
       "<Axes: >"
      ]
     },
     "execution_count": 28,
     "metadata": {},
     "output_type": "execute_result"
    },
    {
     "data": {
      "image/png": "[encoded data removed]",
      "text/plain": [
       "<Figure size 1000x1000 with 2 Axes>"
      ]
     },
     "metadata": {},
     "output_type": "display_data"
    }
   ],
   "source": [
    "plt.figure(figsize=(10,10))\n",
    "sns.heatmap(auto[ordinal_var].corr(),annot=True,fmt='.2f')"
   ]
  },
  {
   "cell_type": "markdown",
   "id": "e6cde459",
   "metadata": {
    "papermill": {
     "duration": 0.031125,
     "end_time": "2023-08-07T04:32:58.997386",
     "exception": false,
     "start_time": "2023-08-07T04:32:58.966261",
     "status": "completed"
    },
    "tags": []
   },
   "source": [
    "ordinal features in general are exhibiting wery weak correlation among themselves."
   ]
  },
  {
   "cell_type": "code",
   "execution_count": 29,
   "id": "0fbd3e9a",
   "metadata": {
    "execution": {
     "iopub.execute_input": "2023-08-07T04:32:59.062074Z",
     "iopub.status.busy": "2023-08-07T04:32:59.061663Z",
     "iopub.status.idle": "2023-08-07T04:32:59.417117Z",
     "shell.execute_reply": "2023-08-07T04:32:59.416140Z"
    },
    "papermill": {
     "duration": 0.391227,
     "end_time": "2023-08-07T04:32:59.419998",
     "exception": false,
     "start_time": "2023-08-07T04:32:59.028771",
     "status": "completed"
    },
    "tags": []
   },
   "outputs": [],
   "source": [
    "# Dropping the variables with too many missing values\n",
    "vars_to_drop = ['ps_car_03_cat', 'ps_car_05_cat']\n",
    "auto.drop(vars_to_drop, inplace=True, axis=1)\n",
    "#We will fill the missing values with the median value of the respective non-null features because as we saw earlier, many features have outliers, so filling with mean value is sub-optimal.\n",
    "for i in list(auto.columns):\n",
    "    if len(auto[auto[i]==-1])>0:\n",
    "        auto[i].replace(-1,auto[i].median(),inplace=True)"
   ]
  },
  {
   "cell_type": "markdown",
   "id": "3961103f",
   "metadata": {
    "papermill": {
     "duration": 0.032317,
     "end_time": "2023-08-07T04:32:59.484303",
     "exception": false,
     "start_time": "2023-08-07T04:32:59.451986",
     "status": "completed"
    },
    "tags": []
   },
   "source": [
    "#### Implementing Hot Enoding for categorical features"
   ]
  },
  {
   "cell_type": "code",
   "execution_count": 30,
   "id": "c2cab484",
   "metadata": {
    "execution": {
     "iopub.execute_input": "2023-08-07T04:32:59.550863Z",
     "iopub.status.busy": "2023-08-07T04:32:59.550432Z",
     "iopub.status.idle": "2023-08-07T04:32:59.558299Z",
     "shell.execute_reply": "2023-08-07T04:32:59.557382Z"
    },
    "papermill": {
     "duration": 0.044114,
     "end_time": "2023-08-07T04:32:59.560438",
     "exception": false,
     "start_time": "2023-08-07T04:32:59.516324",
     "status": "completed"
    },
    "tags": []
   },
   "outputs": [
    {
     "data": {
      "text/plain": [
       "['ps_ind_02_cat',\n",
       " 'ps_ind_04_cat',\n",
       " 'ps_ind_05_cat',\n",
       " 'ps_car_01_cat',\n",
       " 'ps_car_02_cat',\n",
       " 'ps_car_04_cat',\n",
       " 'ps_car_06_cat',\n",
       " 'ps_car_07_cat',\n",
       " 'ps_car_08_cat',\n",
       " 'ps_car_09_cat',\n",
       " 'ps_car_10_cat',\n",
       " 'ps_car_11_cat']"
      ]
     },
     "execution_count": 30,
     "metadata": {},
     "output_type": "execute_result"
    }
   ],
   "source": [
    "categorical_var = [i for i in categorical_var if i not in ['ps_car_05_cat','ps_car_03_cat']]\n",
    "categorical_var"
   ]
  },
  {
   "cell_type": "code",
   "execution_count": 31,
   "id": "bd29a23d",
   "metadata": {
    "execution": {
     "iopub.execute_input": "2023-08-07T04:32:59.629378Z",
     "iopub.status.busy": "2023-08-07T04:32:59.628921Z",
     "iopub.status.idle": "2023-08-07T04:33:00.711374Z",
     "shell.execute_reply": "2023-08-07T04:33:00.709806Z"
    },
    "papermill": {
     "duration": 1.12354,
     "end_time": "2023-08-07T04:33:00.715661",
     "exception": false,
     "start_time": "2023-08-07T04:32:59.592121",
     "status": "completed"
    },
    "tags": []
   },
   "outputs": [
    {
     "data": {
      "text/html": [
       "<div>\n",
       "<style scoped>\n",
       "    .dataframe tbody tr th:only-of-type {\n",
       "        vertical-align: middle;\n",
       "    }\n",
       "\n",
       "    .dataframe tbody tr th {\n",
       "        vertical-align: top;\n",
       "    }\n",
       "\n",
       "    .dataframe thead th {\n",
       "        text-align: right;\n",
       "    }\n",
       "</style>\n",
       "<table border=\"1\" class=\"dataframe\">\n",
       "  <thead>\n",
       "    <tr style=\"text-align: right;\">\n",
       "      <th></th>\n",
       "      <th>id</th>\n",
       "      <th>target</th>\n",
       "      <th>ps_ind_01</th>\n",
       "      <th>ps_ind_03</th>\n",
       "      <th>ps_ind_06_bin</th>\n",
       "      <th>ps_ind_07_bin</th>\n",
       "      <th>ps_ind_08_bin</th>\n",
       "      <th>ps_ind_09_bin</th>\n",
       "      <th>ps_ind_10_bin</th>\n",
       "      <th>ps_ind_11_bin</th>\n",
       "      <th>...</th>\n",
       "      <th>ps_car_11_cat_95</th>\n",
       "      <th>ps_car_11_cat_96</th>\n",
       "      <th>ps_car_11_cat_97</th>\n",
       "      <th>ps_car_11_cat_98</th>\n",
       "      <th>ps_car_11_cat_99</th>\n",
       "      <th>ps_car_11_cat_100</th>\n",
       "      <th>ps_car_11_cat_101</th>\n",
       "      <th>ps_car_11_cat_102</th>\n",
       "      <th>ps_car_11_cat_103</th>\n",
       "      <th>ps_car_11_cat_104</th>\n",
       "    </tr>\n",
       "  </thead>\n",
       "  <tbody>\n",
       "    <tr>\n",
       "      <th>0</th>\n",
       "      <td>7</td>\n",
       "      <td>0</td>\n",
       "      <td>2</td>\n",
       "      <td>5</td>\n",
       "      <td>0</td>\n",
       "      <td>1</td>\n",
       "      <td>0</td>\n",
       "      <td>0</td>\n",
       "      <td>0</td>\n",
       "      <td>0</td>\n",
       "      <td>...</td>\n",
       "      <td>0</td>\n",
       "      <td>0</td>\n",
       "      <td>0</td>\n",
       "      <td>0</td>\n",
       "      <td>0</td>\n",
       "      <td>0</td>\n",
       "      <td>0</td>\n",
       "      <td>0</td>\n",
       "      <td>0</td>\n",
       "      <td>0</td>\n",
       "    </tr>\n",
       "    <tr>\n",
       "      <th>1</th>\n",
       "      <td>9</td>\n",
       "      <td>0</td>\n",
       "      <td>1</td>\n",
       "      <td>7</td>\n",
       "      <td>0</td>\n",
       "      <td>0</td>\n",
       "      <td>1</td>\n",
       "      <td>0</td>\n",
       "      <td>0</td>\n",
       "      <td>0</td>\n",
       "      <td>...</td>\n",
       "      <td>0</td>\n",
       "      <td>0</td>\n",
       "      <td>0</td>\n",
       "      <td>0</td>\n",
       "      <td>0</td>\n",
       "      <td>0</td>\n",
       "      <td>0</td>\n",
       "      <td>0</td>\n",
       "      <td>0</td>\n",
       "      <td>0</td>\n",
       "    </tr>\n",
       "    <tr>\n",
       "      <th>2</th>\n",
       "      <td>13</td>\n",
       "      <td>0</td>\n",
       "      <td>5</td>\n",
       "      <td>9</td>\n",
       "      <td>0</td>\n",
       "      <td>0</td>\n",
       "      <td>1</td>\n",
       "      <td>0</td>\n",
       "      <td>0</td>\n",
       "      <td>0</td>\n",
       "      <td>...</td>\n",
       "      <td>0</td>\n",
       "      <td>0</td>\n",
       "      <td>0</td>\n",
       "      <td>0</td>\n",
       "      <td>0</td>\n",
       "      <td>0</td>\n",
       "      <td>0</td>\n",
       "      <td>0</td>\n",
       "      <td>0</td>\n",
       "      <td>0</td>\n",
       "    </tr>\n",
       "    <tr>\n",
       "      <th>3</th>\n",
       "      <td>16</td>\n",
       "      <td>0</td>\n",
       "      <td>0</td>\n",
       "      <td>2</td>\n",
       "      <td>1</td>\n",
       "      <td>0</td>\n",
       "      <td>0</td>\n",
       "      <td>0</td>\n",
       "      <td>0</td>\n",
       "      <td>0</td>\n",
       "      <td>...</td>\n",
       "      <td>0</td>\n",
       "      <td>0</td>\n",
       "      <td>0</td>\n",
       "      <td>0</td>\n",
       "      <td>0</td>\n",
       "      <td>0</td>\n",
       "      <td>0</td>\n",
       "      <td>0</td>\n",
       "      <td>0</td>\n",
       "      <td>1</td>\n",
       "    </tr>\n",
       "    <tr>\n",
       "      <th>4</th>\n",
       "      <td>17</td>\n",
       "      <td>0</td>\n",
       "      <td>0</td>\n",
       "      <td>0</td>\n",
       "      <td>1</td>\n",
       "      <td>0</td>\n",
       "      <td>0</td>\n",
       "      <td>0</td>\n",
       "      <td>0</td>\n",
       "      <td>0</td>\n",
       "      <td>...</td>\n",
       "      <td>0</td>\n",
       "      <td>0</td>\n",
       "      <td>0</td>\n",
       "      <td>0</td>\n",
       "      <td>0</td>\n",
       "      <td>0</td>\n",
       "      <td>0</td>\n",
       "      <td>0</td>\n",
       "      <td>0</td>\n",
       "      <td>0</td>\n",
       "    </tr>\n",
       "  </tbody>\n",
       "</table>\n",
       "<p>5 rows × 204 columns</p>\n",
       "</div>"
      ],
      "text/plain": [
       "   id  target  ps_ind_01  ps_ind_03  ps_ind_06_bin  ps_ind_07_bin  \\\n",
       "0   7       0          2          5              0              1   \n",
       "1   9       0          1          7              0              0   \n",
       "2  13       0          5          9              0              0   \n",
       "3  16       0          0          2              1              0   \n",
       "4  17       0          0          0              1              0   \n",
       "\n",
       "   ps_ind_08_bin  ps_ind_09_bin  ps_ind_10_bin  ps_ind_11_bin  ...  \\\n",
       "0              0              0              0              0  ...   \n",
       "1              1              0              0              0  ...   \n",
       "2              1              0              0              0  ...   \n",
       "3              0              0              0              0  ...   \n",
       "4              0              0              0              0  ...   \n",
       "\n",
       "   ps_car_11_cat_95  ps_car_11_cat_96  ps_car_11_cat_97  ps_car_11_cat_98  \\\n",
       "0                 0                 0                 0                 0   \n",
       "1                 0                 0                 0                 0   \n",
       "2                 0                 0                 0                 0   \n",
       "3                 0                 0                 0                 0   \n",
       "4                 0                 0                 0                 0   \n",
       "\n",
       "   ps_car_11_cat_99  ps_car_11_cat_100  ps_car_11_cat_101  ps_car_11_cat_102  \\\n",
       "0                 0                  0                  0                  0   \n",
       "1                 0                  0                  0                  0   \n",
       "2                 0                  0                  0                  0   \n",
       "3                 0                  0                  0                  0   \n",
       "4                 0                  0                  0                  0   \n",
       "\n",
       "   ps_car_11_cat_103  ps_car_11_cat_104  \n",
       "0                  0                  0  \n",
       "1                  0                  0  \n",
       "2                  0                  0  \n",
       "3                  0                  1  \n",
       "4                  0                  0  \n",
       "\n",
       "[5 rows x 204 columns]"
      ]
     },
     "execution_count": 31,
     "metadata": {},
     "output_type": "execute_result"
    }
   ],
   "source": [
    "auto3 =pd.get_dummies(data=auto,columns=categorical_var,drop_first=True)\n",
    "auto3.head()"
   ]
  },
  {
   "cell_type": "code",
   "execution_count": 32,
   "id": "47c71f28",
   "metadata": {
    "execution": {
     "iopub.execute_input": "2023-08-07T04:33:00.788607Z",
     "iopub.status.busy": "2023-08-07T04:33:00.788160Z",
     "iopub.status.idle": "2023-08-07T04:33:03.039119Z",
     "shell.execute_reply": "2023-08-07T04:33:03.037843Z"
    },
    "papermill": {
     "duration": 2.288095,
     "end_time": "2023-08-07T04:33:03.041718",
     "exception": false,
     "start_time": "2023-08-07T04:33:00.753623",
     "status": "completed"
    },
    "tags": []
   },
   "outputs": [
    {
     "name": "stdout",
     "output_type": "stream",
     "text": [
      "Target=1 shape: (21694, 204) 3.64 % \n",
      "Target=0 shape: (573518, 204) 96.36 %\n",
      "\n",
      " # This Data shows that it's imbalanced\n"
     ]
    },
    {
     "data": {
      "image/png": "[encoded data removed]",
      "text/plain": [
       "<Figure size 640x480 with 1 Axes>"
      ]
     },
     "metadata": {},
     "output_type": "display_data"
    }
   ],
   "source": [
    "Per1= np.round((auto3[auto3['target']==1].shape[0]*100)/ auto3.shape[0],2)\n",
    "Per0= np.round((auto3[auto3['target']==0].shape[0]*100)/ auto3.shape[0],2)\n",
    "\n",
    "print('Target=1 shape:',auto3[auto3['target']==1].shape, Per1,'%','\\nTarget=0 shape:',auto3[auto3['target']==0].shape,Per0,'%')\n",
    "print(\"\\n # This Data shows that it's imbalanced\")\n",
    "sns.countplot(x= auto3['target'])\n",
    "plt.show()"
   ]
  },
  {
   "cell_type": "code",
   "execution_count": 33,
   "id": "54c56984",
   "metadata": {
    "execution": {
     "iopub.execute_input": "2023-08-07T04:33:03.109201Z",
     "iopub.status.busy": "2023-08-07T04:33:03.108121Z",
     "iopub.status.idle": "2023-08-07T04:33:04.083460Z",
     "shell.execute_reply": "2023-08-07T04:33:04.082547Z"
    },
    "papermill": {
     "duration": 1.011318,
     "end_time": "2023-08-07T04:33:04.085731",
     "exception": false,
     "start_time": "2023-08-07T04:33:03.074413",
     "status": "completed"
    },
    "tags": []
   },
   "outputs": [
    {
     "name": "stdout",
     "output_type": "stream",
     "text": [
      "Size of data, after achieving a balance of 12%:  642340\n"
     ]
    }
   ],
   "source": [
    "# using resampling technique, splittinf data into classes\n",
    "auto_mino= auto3[auto3['target']==1]\n",
    "auto_majo= auto3[auto3['target']==0]\n",
    "auto_mino_upsampled = resample(auto_mino,replace=True,n_samples=int(len(auto_majo)*0.12), random_state = 42)\n",
    "\n",
    "print(\"Size of data, after achieving a balance of 12%: \", auto_mino_upsampled.shape[0] + auto_majo.shape[0])"
   ]
  },
  {
   "cell_type": "markdown",
   "id": "6dd3ae57",
   "metadata": {
    "papermill": {
     "duration": 0.032505,
     "end_time": "2023-08-07T04:33:04.151158",
     "exception": false,
     "start_time": "2023-08-07T04:33:04.118653",
     "status": "completed"
    },
    "tags": []
   },
   "source": [
    "#### Applying Resampling to make balance data-set"
   ]
  },
  {
   "cell_type": "code",
   "execution_count": 34,
   "id": "25ac1bbc",
   "metadata": {
    "execution": {
     "iopub.execute_input": "2023-08-07T04:33:04.219399Z",
     "iopub.status.busy": "2023-08-07T04:33:04.218689Z",
     "iopub.status.idle": "2023-08-07T04:33:05.730197Z",
     "shell.execute_reply": "2023-08-07T04:33:05.729046Z"
    },
    "papermill": {
     "duration": 1.548218,
     "end_time": "2023-08-07T04:33:05.732696",
     "exception": false,
     "start_time": "2023-08-07T04:33:04.184478",
     "status": "completed"
    },
    "tags": []
   },
   "outputs": [
    {
     "name": "stdout",
     "output_type": "stream",
     "text": [
      "Class compostion after resampling:\n",
      "0    573518\n",
      "1    573518\n",
      "Name: target, dtype: int64\n"
     ]
    },
    {
     "data": {
      "image/png": "[encoded data removed]",
      "text/plain": [
       "<Figure size 640x480 with 1 Axes>"
      ]
     },
     "metadata": {},
     "output_type": "display_data"
    }
   ],
   "source": [
    "auto_mino_upsampled = resample(auto_mino,replace=True,n_samples=len(auto_majo), random_state = 42)\n",
    "auto1 = pd.concat([auto_majo,auto_mino_upsampled])\n",
    "print(\"Class compostion after resampling:\")\n",
    "print(auto1['target'].value_counts())\n",
    "auto1['target'].value_counts().plot.bar();"
   ]
  },
  {
   "cell_type": "markdown",
   "id": "1e0ff388",
   "metadata": {
    "papermill": {
     "duration": 0.043304,
     "end_time": "2023-08-07T04:33:05.815035",
     "exception": false,
     "start_time": "2023-08-07T04:33:05.771731",
     "status": "completed"
    },
    "tags": []
   },
   "source": [
    "Now here we have both class with equall count"
   ]
  },
  {
   "cell_type": "markdown",
   "id": "cb724a04",
   "metadata": {
    "papermill": {
     "duration": 0.033549,
     "end_time": "2023-08-07T04:33:05.891972",
     "exception": false,
     "start_time": "2023-08-07T04:33:05.858423",
     "status": "completed"
    },
    "tags": []
   },
   "source": [
    "## Summarizing the learning of ED:"
   ]
  },
  {
   "cell_type": "markdown",
   "id": "98e36b4e",
   "metadata": {
    "papermill": {
     "duration": 0.037289,
     "end_time": "2023-08-07T04:33:05.962377",
     "exception": false,
     "start_time": "2023-08-07T04:33:05.925088",
     "status": "completed"
    },
    "tags": []
   },
   "source": [
    "We observe the following points about the data:\n",
    "\n",
    "- The target data is heavily imbalanced, i.e. claims are more likely rejected than accepted.\n",
    "- The features are mainly of three types: ordinal, interval and categorical. We observed strong correlation in interval variables and weak correlation in ordinal variables.\n",
    "- We identified that nominal features, in this case ordinal features are suitable for Standard Scaling.\n",
    "- Also identified features are having outliers present and observed positive and negative skewness through frequency distribution plot."
   ]
  },
  {
   "cell_type": "markdown",
   "id": "7710494b",
   "metadata": {
    "papermill": {
     "duration": 0.033027,
     "end_time": "2023-08-07T04:33:06.028985",
     "exception": false,
     "start_time": "2023-08-07T04:33:05.995958",
     "status": "completed"
    },
    "tags": []
   },
   "source": [
    "#### Spliting data in feature & target"
   ]
  },
  {
   "cell_type": "code",
   "execution_count": 35,
   "id": "1292fa7e",
   "metadata": {
    "execution": {
     "iopub.execute_input": "2023-08-07T04:33:06.105153Z",
     "iopub.status.busy": "2023-08-07T04:33:06.104761Z",
     "iopub.status.idle": "2023-08-07T04:33:06.656189Z",
     "shell.execute_reply": "2023-08-07T04:33:06.655017Z"
    },
    "papermill": {
     "duration": 0.596633,
     "end_time": "2023-08-07T04:33:06.659091",
     "exception": false,
     "start_time": "2023-08-07T04:33:06.062458",
     "status": "completed"
    },
    "tags": []
   },
   "outputs": [],
   "source": [
    "x= auto1.drop(['target','id'], axis=1)\n",
    "y= auto1['target']"
   ]
  },
  {
   "cell_type": "markdown",
   "id": "ca7d2608",
   "metadata": {
    "papermill": {
     "duration": 0.034329,
     "end_time": "2023-08-07T04:33:06.727400",
     "exception": false,
     "start_time": "2023-08-07T04:33:06.693071",
     "status": "completed"
    },
    "tags": []
   },
   "source": [
    "#### Spliting data in train test"
   ]
  },
  {
   "cell_type": "markdown",
   "id": "81f2a921",
   "metadata": {
    "papermill": {
     "duration": 0.032753,
     "end_time": "2023-08-07T04:33:06.795541",
     "exception": false,
     "start_time": "2023-08-07T04:33:06.762788",
     "status": "completed"
    },
    "tags": []
   },
   "source": [
    "using 70 percentage for training and 30 percentage for testing"
   ]
  },
  {
   "cell_type": "code",
   "execution_count": 36,
   "id": "17480905",
   "metadata": {
    "execution": {
     "iopub.execute_input": "2023-08-07T04:33:06.863595Z",
     "iopub.status.busy": "2023-08-07T04:33:06.863172Z",
     "iopub.status.idle": "2023-08-07T04:33:09.672471Z",
     "shell.execute_reply": "2023-08-07T04:33:09.671447Z"
    },
    "papermill": {
     "duration": 2.846468,
     "end_time": "2023-08-07T04:33:09.675191",
     "exception": false,
     "start_time": "2023-08-07T04:33:06.828723",
     "status": "completed"
    },
    "tags": []
   },
   "outputs": [],
   "source": [
    "from sklearn.model_selection import train_test_split as tts\n",
    "X_train,X_test,y_train,y_test = tts(x, y, test_size = 0.3,random_state = 1)"
   ]
  },
  {
   "cell_type": "markdown",
   "id": "ac7742bb",
   "metadata": {
    "papermill": {
     "duration": 0.032757,
     "end_time": "2023-08-07T04:33:09.741661",
     "exception": false,
     "start_time": "2023-08-07T04:33:09.708904",
     "status": "completed"
    },
    "tags": []
   },
   "source": [
    "#### Feature Scaling"
   ]
  },
  {
   "cell_type": "code",
   "execution_count": 37,
   "id": "9c865c1e",
   "metadata": {
    "execution": {
     "iopub.execute_input": "2023-08-07T04:33:09.809361Z",
     "iopub.status.busy": "2023-08-07T04:33:09.808944Z",
     "iopub.status.idle": "2023-08-07T04:33:13.272745Z",
     "shell.execute_reply": "2023-08-07T04:33:13.271559Z"
    },
    "papermill": {
     "duration": 3.50102,
     "end_time": "2023-08-07T04:33:13.275636",
     "exception": false,
     "start_time": "2023-08-07T04:33:09.774616",
     "status": "completed"
    },
    "tags": []
   },
   "outputs": [],
   "source": [
    "from sklearn.preprocessing import StandardScaler\n",
    "scaler = StandardScaler()\n",
    "# Fit only to the training data\n",
    "scaler.fit(X_train)\n",
    "# Now apply the transformations to the data:\n",
    "X_train = scaler.transform(X_train)\n",
    "X_test = scaler.transform(X_test)"
   ]
  },
  {
   "cell_type": "markdown",
   "id": "f9adfd7d",
   "metadata": {
    "papermill": {
     "duration": 0.033163,
     "end_time": "2023-08-07T04:33:13.342676",
     "exception": false,
     "start_time": "2023-08-07T04:33:13.309513",
     "status": "completed"
    },
    "tags": []
   },
   "source": [
    "#### Dimensionality Reduction using PCA"
   ]
  },
  {
   "cell_type": "code",
   "execution_count": 38,
   "id": "dbfb4954",
   "metadata": {
    "execution": {
     "iopub.execute_input": "2023-08-07T04:33:13.410825Z",
     "iopub.status.busy": "2023-08-07T04:33:13.410428Z",
     "iopub.status.idle": "2023-08-07T04:33:26.939384Z",
     "shell.execute_reply": "2023-08-07T04:33:26.937817Z"
    },
    "papermill": {
     "duration": 13.568454,
     "end_time": "2023-08-07T04:33:26.944387",
     "exception": false,
     "start_time": "2023-08-07T04:33:13.375933",
     "status": "completed"
    },
    "tags": []
   },
   "outputs": [],
   "source": [
    "pca = PCA(n_components=2)\n",
    "pca.fit(X_train)\n",
    "X_train_pca = pca.transform(X_train)\n",
    "X_test_pca = pca.transform(X_test)"
   ]
  },
  {
   "cell_type": "markdown",
   "id": "ec6f4787",
   "metadata": {
    "papermill": {
     "duration": 0.052421,
     "end_time": "2023-08-07T04:33:27.068804",
     "exception": false,
     "start_time": "2023-08-07T04:33:27.016383",
     "status": "completed"
    },
    "tags": []
   },
   "source": [
    "### Logistic Regression"
   ]
  },
  {
   "cell_type": "code",
   "execution_count": 39,
   "id": "d3ef7763",
   "metadata": {
    "execution": {
     "iopub.execute_input": "2023-08-07T04:33:27.137213Z",
     "iopub.status.busy": "2023-08-07T04:33:27.136825Z",
     "iopub.status.idle": "2023-08-07T04:33:27.146667Z",
     "shell.execute_reply": "2023-08-07T04:33:27.145715Z"
    },
    "papermill": {
     "duration": 0.046613,
     "end_time": "2023-08-07T04:33:27.148812",
     "exception": false,
     "start_time": "2023-08-07T04:33:27.102199",
     "status": "completed"
    },
    "tags": []
   },
   "outputs": [],
   "source": [
    "def accuracy_result(y_test, y_pred_test):\n",
    "    from sklearn import metrics\n",
    "    from sklearn.metrics import confusion_matrix, classification_report\n",
    "    confusion_matrix=metrics.confusion_matrix(y_test, y_pred_test)\n",
    "    # USE THE IMPORTED CONFUSION MATRIX\n",
    "    print('\\n CONFUSION MATRIX:\\n ', confusion_matrix,'\\n')\n",
    "    TP = confusion_matrix[1, 1]\n",
    "    TN = confusion_matrix[0, 0]\n",
    "    FP = confusion_matrix[0, 1]\n",
    "    FN = confusion_matrix[1, 0]\n",
    "    false_positive_rate = round(FP / float(TN + FP),3)\n",
    "    print('FPR: ', false_positive_rate)\n",
    "    print('TPR/ RECALL/ SENSTIVITY: ', round(metrics.recall_score(y_test, y_pred_test), 3))\n",
    "    print('PRECISION:' ,round(metrics.precision_score(y_test, y_pred_test), 3))\n",
    "    specificity = round(TN / (TN + FP),3)\n",
    "    print('SPECIFICITY: ',specificity)\n",
    "    print('ACCURACY: ', np.round(metrics.accuracy_score(y_test, y_pred_test),3))\n",
    "    print('ROC AUC: ', np.round(roc_auc_score(y_test, y_pred_test),3))\n",
    "    print('F1 score: ', np.round(f1_score(y_test, y_pred_test),3))\n",
    "    print('\\n CLASSIFICATION REPORT: \\n',classification_report(y_test,y_pred_test))\n",
    "    return "
   ]
  },
  {
   "cell_type": "code",
   "execution_count": 40,
   "id": "7750f57d",
   "metadata": {
    "execution": {
     "iopub.execute_input": "2023-08-07T04:33:27.217838Z",
     "iopub.status.busy": "2023-08-07T04:33:27.217194Z",
     "iopub.status.idle": "2023-08-07T04:33:29.350616Z",
     "shell.execute_reply": "2023-08-07T04:33:29.349027Z"
    },
    "papermill": {
     "duration": 2.17089,
     "end_time": "2023-08-07T04:33:29.353255",
     "exception": false,
     "start_time": "2023-08-07T04:33:27.182365",
     "status": "completed"
    },
    "tags": []
   },
   "outputs": [
    {
     "name": "stdout",
     "output_type": "stream",
     "text": [
      "\n",
      " CONFUSION MATRIX:\n",
      "  [[111166  61127]\n",
      " [ 90541  81277]] \n",
      "\n",
      "FPR:  0.355\n",
      "TPR/ RECALL/ SENSTIVITY:  0.473\n",
      "PRECISION: 0.571\n",
      "SPECIFICITY:  0.645\n",
      "ACCURACY:  0.559\n",
      "ROC AUC:  0.559\n",
      "F1 score:  0.517\n",
      "\n",
      " CLASSIFICATION REPORT: \n",
      "               precision    recall  f1-score   support\n",
      "\n",
      "           0       0.55      0.65      0.59    172293\n",
      "           1       0.57      0.47      0.52    171818\n",
      "\n",
      "    accuracy                           0.56    344111\n",
      "   macro avg       0.56      0.56      0.56    344111\n",
      "weighted avg       0.56      0.56      0.56    344111\n",
      "\n"
     ]
    }
   ],
   "source": [
    "## 1. Fitting a Logistic Regression\n",
    "log_reg = LogisticRegression()\n",
    "log_reg.fit(X_train_pca, y_train)\n",
    "\n",
    "## 2. Predicting on Train and test data\n",
    "\n",
    "y_pred_train = log_reg.predict(X_train_pca)\n",
    "y_pred_logreg2 = log_reg.predict(X_test_pca)\n",
    "\n",
    "## 3. Using function for evaluating the model output\n",
    "\n",
    "accuracy_result(y_test, y_pred_logreg2)"
   ]
  },
  {
   "cell_type": "markdown",
   "id": "c8fe186b",
   "metadata": {
    "papermill": {
     "duration": 0.032962,
     "end_time": "2023-08-07T04:33:29.419634",
     "exception": false,
     "start_time": "2023-08-07T04:33:29.386672",
     "status": "completed"
    },
    "tags": []
   },
   "source": []
  },
  {
   "cell_type": "markdown",
   "id": "3c282d5e",
   "metadata": {
    "papermill": {
     "duration": 0.032914,
     "end_time": "2023-08-07T04:33:29.485402",
     "exception": false,
     "start_time": "2023-08-07T04:33:29.452488",
     "status": "completed"
    },
    "tags": []
   },
   "source": [
    "### Support Vector Classifier"
   ]
  },
  {
   "cell_type": "code",
   "execution_count": 41,
   "id": "ef276c51",
   "metadata": {
    "execution": {
     "iopub.execute_input": "2023-08-07T04:33:29.554663Z",
     "iopub.status.busy": "2023-08-07T04:33:29.554229Z",
     "iopub.status.idle": "2023-08-07T04:34:37.248598Z",
     "shell.execute_reply": "2023-08-07T04:34:37.247124Z"
    },
    "papermill": {
     "duration": 67.732058,
     "end_time": "2023-08-07T04:34:37.251181",
     "exception": false,
     "start_time": "2023-08-07T04:33:29.519123",
     "status": "completed"
    },
    "tags": []
   },
   "outputs": [
    {
     "name": "stdout",
     "output_type": "stream",
     "text": [
      "\n",
      " CONFUSION MATRIX:\n",
      "  [[125942  46351]\n",
      " [106698  65120]] \n",
      "\n",
      "FPR:  0.269\n",
      "TPR/ RECALL/ SENSTIVITY:  0.379\n",
      "PRECISION: 0.584\n",
      "SPECIFICITY:  0.731\n",
      "ACCURACY:  0.555\n",
      "ROC AUC:  0.555\n",
      "F1 score:  0.46\n",
      "\n",
      " CLASSIFICATION REPORT: \n",
      "               precision    recall  f1-score   support\n",
      "\n",
      "           0       0.54      0.73      0.62    172293\n",
      "           1       0.58      0.38      0.46    171818\n",
      "\n",
      "    accuracy                           0.56    344111\n",
      "   macro avg       0.56      0.55      0.54    344111\n",
      "weighted avg       0.56      0.56      0.54    344111\n",
      "\n"
     ]
    }
   ],
   "source": [
    "x_tr=X_train_pca[:10000,:]\n",
    "y_tr=y_train[:10000]\n",
    "\n",
    "## 1. svm Classifier with linear kernel\n",
    "\n",
    "#Create a svm Classifier\n",
    "clf = svm.SVC(kernel='linear')\n",
    "# FIT SVC ON TRAINING DATA\n",
    "clf.fit(x_tr, y_tr)\n",
    "\n",
    "## 2. Predicting on Train and test data\n",
    "\n",
    "# y_pred_train = clf.predict(X_train)\n",
    "y_pred_svc = clf.predict(X_test_pca)\n",
    "\n",
    "#  model output\n",
    "accuracy_result(y_test, y_pred_svc)"
   ]
  },
  {
   "cell_type": "markdown",
   "id": "4c700695",
   "metadata": {
    "papermill": {
     "duration": 0.033502,
     "end_time": "2023-08-07T04:34:37.318965",
     "exception": false,
     "start_time": "2023-08-07T04:34:37.285463",
     "status": "completed"
    },
    "tags": []
   },
   "source": [
    "- Not any Significance Improvement for model LinearSVC play with parameters – dual, max_iter\n",
    "- I fitted the SVC model on 10K dataset because on 100K dataset not able to run the model."
   ]
  },
  {
   "cell_type": "markdown",
   "id": "88c067cc",
   "metadata": {
    "papermill": {
     "duration": 0.03371,
     "end_time": "2023-08-07T04:34:37.386659",
     "exception": false,
     "start_time": "2023-08-07T04:34:37.352949",
     "status": "completed"
    },
    "tags": []
   },
   "source": [
    "### XGBoost Classifier"
   ]
  },
  {
   "cell_type": "code",
   "execution_count": 42,
   "id": "bf3c5025",
   "metadata": {
    "execution": {
     "iopub.execute_input": "2023-08-07T04:34:37.456725Z",
     "iopub.status.busy": "2023-08-07T04:34:37.456335Z",
     "iopub.status.idle": "2023-08-07T04:38:21.511467Z",
     "shell.execute_reply": "2023-08-07T04:38:21.510137Z"
    },
    "papermill": {
     "duration": 224.093468,
     "end_time": "2023-08-07T04:38:21.514063",
     "exception": false,
     "start_time": "2023-08-07T04:34:37.420595",
     "status": "completed"
    },
    "tags": []
   },
   "outputs": [
    {
     "name": "stdout",
     "output_type": "stream",
     "text": [
      "\n",
      " CONFUSION MATRIX:\n",
      "  [[138417  33876]\n",
      " [ 10986 160832]] \n",
      "\n",
      "FPR:  0.197\n",
      "TPR/ RECALL/ SENSTIVITY:  0.936\n",
      "PRECISION: 0.826\n",
      "SPECIFICITY:  0.803\n",
      "ACCURACY:  0.87\n",
      "ROC AUC:  0.87\n",
      "F1 score:  0.878\n",
      "\n",
      " CLASSIFICATION REPORT: \n",
      "               precision    recall  f1-score   support\n",
      "\n",
      "           0       0.93      0.80      0.86    172293\n",
      "           1       0.83      0.94      0.88    171818\n",
      "\n",
      "    accuracy                           0.87    344111\n",
      "   macro avg       0.88      0.87      0.87    344111\n",
      "weighted avg       0.88      0.87      0.87    344111\n",
      "\n"
     ]
    }
   ],
   "source": [
    "## 1. Initializing XGboost Classifier\n",
    "\n",
    "xg_cls = XGBClassifier(objective='binary:logistic', colsample_bytree = 0.3, learning_rate = 0.1,\n",
    "                max_depth = 50, alpha = 10, n_estimators = 100)\n",
    "xg_cls.fit(X_train_pca, y_train)\n",
    "\n",
    "## 2. Predicting on Train and test data\n",
    "\n",
    "# y_pred_train = xg_cls.predict(X_train)\n",
    "y_pred_xgb = xg_cls.predict(X_test_pca)\n",
    "\n",
    "# function for evaluating the model output\n",
    "accuracy_result(y_test, y_pred_xgb)"
   ]
  },
  {
   "cell_type": "markdown",
   "id": "13e67254",
   "metadata": {
    "papermill": {
     "duration": 0.034694,
     "end_time": "2023-08-07T04:38:21.583837",
     "exception": false,
     "start_time": "2023-08-07T04:38:21.549143",
     "status": "completed"
    },
    "tags": []
   },
   "source": [
    "- In my model ,Im getting f1 score near to 1, that indicate a best fitted model.\n",
    "- There is no need of One-hot encoding because it has been previously done.\n",
    "- Not happened any improvement in scores after encoding(because There is no need of One-hot encoding so I have not done it)\n",
    "- XGBoost model is performing best."
   ]
  },
  {
   "cell_type": "markdown",
   "id": "b6c6127e",
   "metadata": {
    "papermill": {
     "duration": 0.03485,
     "end_time": "2023-08-07T04:38:21.653565",
     "exception": false,
     "start_time": "2023-08-07T04:38:21.618715",
     "status": "completed"
    },
    "tags": []
   },
   "source": [
    "### Adaboost classifier"
   ]
  },
  {
   "cell_type": "code",
   "execution_count": 43,
   "id": "37721953",
   "metadata": {
    "execution": {
     "iopub.execute_input": "2023-08-07T04:38:21.726540Z",
     "iopub.status.busy": "2023-08-07T04:38:21.726097Z",
     "iopub.status.idle": "2023-08-07T04:38:59.526024Z",
     "shell.execute_reply": "2023-08-07T04:38:59.524299Z"
    },
    "papermill": {
     "duration": 37.839656,
     "end_time": "2023-08-07T04:38:59.528499",
     "exception": false,
     "start_time": "2023-08-07T04:38:21.688843",
     "status": "completed"
    },
    "tags": []
   },
   "outputs": [
    {
     "name": "stdout",
     "output_type": "stream",
     "text": [
      "\n",
      " CONFUSION MATRIX:\n",
      "  [[98471 73822]\n",
      " [75282 96536]] \n",
      "\n",
      "FPR:  0.428\n",
      "TPR/ RECALL/ SENSTIVITY:  0.562\n",
      "PRECISION: 0.567\n",
      "SPECIFICITY:  0.572\n",
      "ACCURACY:  0.567\n",
      "ROC AUC:  0.567\n",
      "F1 score:  0.564\n",
      "\n",
      " CLASSIFICATION REPORT: \n",
      "               precision    recall  f1-score   support\n",
      "\n",
      "           0       0.57      0.57      0.57    172293\n",
      "           1       0.57      0.56      0.56    171818\n",
      "\n",
      "    accuracy                           0.57    344111\n",
      "   macro avg       0.57      0.57      0.57    344111\n",
      "weighted avg       0.57      0.57      0.57    344111\n",
      "\n"
     ]
    }
   ],
   "source": [
    "# Create adaboost classifer object\n",
    "adaBoost = AdaBoostClassifier(n_estimators=50, learning_rate=1, random_state=0)\n",
    "\n",
    "# Train Adaboost Classifer\n",
    "model1 = adaBoost.fit(X_train_pca, y_train)\n",
    "\n",
    "\n",
    "#Predict the response for test dataset\n",
    "y_pred_ada = model1.predict(X_test_pca)\n",
    "\n",
    "accuracy_result(y_test, y_pred_ada)"
   ]
  },
  {
   "cell_type": "markdown",
   "id": "78422bfc",
   "metadata": {
    "papermill": {
     "duration": 0.034369,
     "end_time": "2023-08-07T04:38:59.597840",
     "exception": false,
     "start_time": "2023-08-07T04:38:59.563471",
     "status": "completed"
    },
    "tags": []
   },
   "source": [
    "No improvement in AdaBoost model result because In my case XGBoost model giving much more better result (Accuracy and F1 score) in compare to AdaBoost model."
   ]
  },
  {
   "cell_type": "markdown",
   "id": "f2ded099",
   "metadata": {
    "papermill": {
     "duration": 0.035232,
     "end_time": "2023-08-07T04:38:59.668075",
     "exception": false,
     "start_time": "2023-08-07T04:38:59.632843",
     "status": "completed"
    },
    "tags": []
   },
   "source": [
    "### MLP Classifier\n"
   ]
  },
  {
   "cell_type": "code",
   "execution_count": 44,
   "id": "58dcda39",
   "metadata": {
    "execution": {
     "iopub.execute_input": "2023-08-07T04:38:59.740803Z",
     "iopub.status.busy": "2023-08-07T04:38:59.740427Z",
     "iopub.status.idle": "2023-08-07T04:39:43.261591Z",
     "shell.execute_reply": "2023-08-07T04:39:43.259831Z"
    },
    "papermill": {
     "duration": 43.561018,
     "end_time": "2023-08-07T04:39:43.264429",
     "exception": false,
     "start_time": "2023-08-07T04:38:59.703411",
     "status": "completed"
    },
    "tags": []
   },
   "outputs": [
    {
     "name": "stdout",
     "output_type": "stream",
     "text": [
      "\n",
      " CONFUSION MATRIX:\n",
      "  [[ 83802  88491]\n",
      " [ 61056 110762]] \n",
      "\n",
      "FPR:  0.514\n",
      "TPR/ RECALL/ SENSTIVITY:  0.645\n",
      "PRECISION: 0.556\n",
      "SPECIFICITY:  0.486\n",
      "ACCURACY:  0.565\n",
      "ROC AUC:  0.566\n",
      "F1 score:  0.597\n",
      "\n",
      " CLASSIFICATION REPORT: \n",
      "               precision    recall  f1-score   support\n",
      "\n",
      "           0       0.58      0.49      0.53    172293\n",
      "           1       0.56      0.64      0.60    171818\n",
      "\n",
      "    accuracy                           0.57    344111\n",
      "   macro avg       0.57      0.57      0.56    344111\n",
      "weighted avg       0.57      0.57      0.56    344111\n",
      "\n"
     ]
    }
   ],
   "source": [
    "# Training the model\n",
    "mlp = MLPClassifier(hidden_layer_sizes=(10, 10, 10),activation='logistic', max_iter=200)\n",
    "mlp.fit(X_train_pca, y_train.values.ravel())\n",
    "\n",
    "# Prediction on x_test\n",
    "y_predic = mlp.predict(X_test_pca)\n",
    "accuracy_result(y_test,y_predic)"
   ]
  },
  {
   "cell_type": "markdown",
   "id": "37282481",
   "metadata": {
    "papermill": {
     "duration": 0.034643,
     "end_time": "2023-08-07T04:39:43.334526",
     "exception": false,
     "start_time": "2023-08-07T04:39:43.299883",
     "status": "completed"
    },
    "tags": []
   },
   "source": [
    "In Generally, you can't analytically calculate the number of layers or the number of nodes to use per layer in an ANN to address a specific real-world predictive modeling problem, But there are many methods for determining the correct number of neurons to use in the hidden layers, such as the following:\n",
    "\n",
    "- The no. of hidden neurons should be between the size of the input layer and the size of the output layer.\n",
    "- The no. of hidden neurons should be 2/3 the size of the input layer, plus the size of the output layer.\n",
    "- The no. of hidden neurons should be less than twice the size of the input layer."
   ]
  },
  {
   "cell_type": "markdown",
   "id": "6abf0d32",
   "metadata": {
    "papermill": {
     "duration": 0.035119,
     "end_time": "2023-08-07T04:39:43.404626",
     "exception": false,
     "start_time": "2023-08-07T04:39:43.369507",
     "status": "completed"
    },
    "tags": []
   },
   "source": [
    "## Final Result Comparison"
   ]
  },
  {
   "cell_type": "code",
   "execution_count": 45,
   "id": "fe15c2d4",
   "metadata": {
    "execution": {
     "iopub.execute_input": "2023-08-07T04:39:43.477411Z",
     "iopub.status.busy": "2023-08-07T04:39:43.476702Z",
     "iopub.status.idle": "2023-08-07T04:39:44.434395Z",
     "shell.execute_reply": "2023-08-07T04:39:44.433246Z"
    },
    "papermill": {
     "duration": 0.997213,
     "end_time": "2023-08-07T04:39:44.436900",
     "exception": false,
     "start_time": "2023-08-07T04:39:43.439687",
     "status": "completed"
    },
    "tags": []
   },
   "outputs": [
    {
     "data": {
      "text/html": [
       "<div>\n",
       "<style scoped>\n",
       "    .dataframe tbody tr th:only-of-type {\n",
       "        vertical-align: middle;\n",
       "    }\n",
       "\n",
       "    .dataframe tbody tr th {\n",
       "        vertical-align: top;\n",
       "    }\n",
       "\n",
       "    .dataframe thead th {\n",
       "        text-align: right;\n",
       "    }\n",
       "</style>\n",
       "<table border=\"1\" class=\"dataframe\">\n",
       "  <thead>\n",
       "    <tr style=\"text-align: right;\">\n",
       "      <th></th>\n",
       "      <th>F1_score</th>\n",
       "      <th>Accuracy</th>\n",
       "    </tr>\n",
       "  </thead>\n",
       "  <tbody>\n",
       "    <tr>\n",
       "      <th>Log_Reg</th>\n",
       "      <td>0.51700</td>\n",
       "      <td>0.55900</td>\n",
       "    </tr>\n",
       "    <tr>\n",
       "      <th>SVC</th>\n",
       "      <td>0.46000</td>\n",
       "      <td>0.55500</td>\n",
       "    </tr>\n",
       "    <tr>\n",
       "      <th>XGBoost</th>\n",
       "      <td>0.87800</td>\n",
       "      <td>0.87000</td>\n",
       "    </tr>\n",
       "    <tr>\n",
       "      <th>AdaBoost</th>\n",
       "      <td>0.56400</td>\n",
       "      <td>0.56700</td>\n",
       "    </tr>\n",
       "    <tr>\n",
       "      <th>MLP Classifier</th>\n",
       "      <td>0.59700</td>\n",
       "      <td>0.56500</td>\n",
       "    </tr>\n",
       "  </tbody>\n",
       "</table>\n",
       "</div>"
      ],
      "text/plain": [
       "                F1_score  Accuracy\n",
       "Log_Reg          0.51700   0.55900\n",
       "SVC              0.46000   0.55500\n",
       "XGBoost          0.87800   0.87000\n",
       "AdaBoost         0.56400   0.56700\n",
       "MLP Classifier   0.59700   0.56500"
      ]
     },
     "execution_count": 45,
     "metadata": {},
     "output_type": "execute_result"
    }
   ],
   "source": [
    "data = {'Log_Reg':[np.round(f1_score(y_test, y_pred_logreg2),3), np.round(metrics.accuracy_score(y_test, y_pred_logreg2),3)],\n",
    "        'SVC':[np.round(f1_score(y_test, y_pred_svc),3), np.round(metrics.accuracy_score(y_test, y_pred_svc),3)],\n",
    "        'XGBoost':[np.round(f1_score(y_test, y_pred_xgb),3), np.round(metrics.accuracy_score(y_test, y_pred_xgb),3)],\n",
    "        'AdaBoost':[np.round(f1_score(y_test, y_pred_ada),3), np.round(metrics.accuracy_score(y_test, y_pred_ada),3)],\n",
    "        'MLP Classifier':[np.round(f1_score(y_test, y_predic),3), np.round(metrics.accuracy_score(y_test, y_predic),3)]}\n",
    "\n",
    "df_result=pd.DataFrame(data, index = ['F1_score', 'Accuracy']).T\n",
    "df_result"
   ]
  },
  {
   "cell_type": "markdown",
   "id": "756155ab",
   "metadata": {
    "papermill": {
     "duration": 0.035872,
     "end_time": "2023-08-07T04:39:44.508408",
     "exception": false,
     "start_time": "2023-08-07T04:39:44.472536",
     "status": "completed"
    },
    "tags": []
   },
   "source": [
    "After comparing the F1- score and Accuracy of all used Machine Learning models, we found that XGBoost model is best performing and giving best result with respect to all other model."
   ]
  }
 ],
 "metadata": {
  "kernelspec": {
   "display_name": "Python 3 (ipykernel)",
   "language": "python",
   "name": "python3"
  },
  "language_info": {
   "codemirror_mode": {
    "name": "ipython",
    "version": 3
   },
   "file_extension": ".py",
   "mimetype": "text/x-python",
   "name": "python",
   "nbconvert_exporter": "python",
   "pygments_lexer": "ipython3",
   "version": "3.10.9"
  },
  "papermill": {
   "default_parameters": {},
   "duration": 434.154246,
   "end_time": "2023-08-07T04:39:45.970481",
   "environment_variables": {},
   "exception": null,
   "input_path": "__notebook__.ipynb",
   "output_path": "__notebook__.ipynb",
   "parameters": {},
   "start_time": "2023-08-07T04:32:31.816235",
   "version": "2.4.0"
  }
 },
 "nbformat": 4,
 "nbformat_minor": 5
}
